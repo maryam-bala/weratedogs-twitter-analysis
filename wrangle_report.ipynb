{
 "cells": [
  {
   "cell_type": "markdown",
   "metadata": {},
   "source": [
    "## Wrangle Report"
   ]
  },
  {
   "cell_type": "markdown",
   "metadata": {},
   "source": [
    "## INTRODUCTION\n",
    "\n",
    "This project's aim is to gather data from the Weratedogs Twitter page to create analysis about the tweets and the predicted dog’s breed.\n",
    "\n",
    "The data wrangling process follows the following 3 steps:\n",
    "1. Data Gathering \n",
    "  - The WeRateDogs Twitter archive\n",
    "  - The tweet image predictions\n",
    "  - Additional data from the Twitter API\n",
    "2. Assessing Data \n",
    "3. Cleaning Data "
   ]
  },
  {
   "cell_type": "markdown",
   "metadata": {},
   "source": [
    "## 1. Data Gathering \n",
    "\n",
    "- The WeRateDogs Twitter Enhanced Archive was provided by Udacity. \n",
    "The twitter_archive_enhanced.csv file contains basic tweet data (tweet ID, timestamp, dog stage, doge name etc.) with 2356 and 17 columns. This is tweet information as they stood on August 1, 2017\n",
    "\n",
    "- The tweet image predictions is hosted on Udacity's servers and was downloaded programmatically using the Requests library \n",
    "\n",
    "- Additional data (retweet and favourite count of tweets) was scraped from Twitter's API using the Tweepy library. Tweepy is an easy to use Python library for accessing the Twitter API. \n",
    "The retweet and favourite counts were gotten by querying the tweet_ids present in twitter_archive_enhanced.csv. The data is stored in tweet_json.text. \n",
    "\n",
    "**The gathered data are loaded into 3 different DataFrames**\n",
    "- twitter_archive : Loaded data from twitter_archive_enhanced.csv\n",
    "- image_pred : Loaded data from image_predictions.tsv\n",
    "- retweet_favourite_count : Loaded data from tweet_json.txt"
   ]
  },
  {
   "cell_type": "markdown",
   "metadata": {},
   "source": [
    "## 2. Data Assessing\n",
    "\n",
    "The Datasets were assessed using wo types of assessment:\n",
    "- Visual assessment: each piece of gathered data is displayed in the Jupyter Notebook for visual assessment purposes. Once displayed, data was additionally assessed in Excel and text editor. \n",
    "- Programmatic assessment: pandas' functions and methods were used to assess the data.\n",
    "\n",
    "\n",
    "\n",
    "Summary of issues found after assessing the Datasets \n",
    "\n",
    "|Problem Type      | Dataset | Problem|\n",
    "| :---       | :---: | :---: |\n",
    "|Quality            |\t```twitter_archive, image_pred``` |Incorrect data type issues - tweet_id should be object not integers or floats because they are not numeric and aren't intended to perform calculations,  rating_denominator and rating_numerator should be floats not integers since there is nothing stopping future dog ratings from having a number with a decimal either in the denominator or numerator, tweet_id column in image prediction should be an object (string) not integers or floats because they are not numeric and will not be used for performing calculations, timestamp field should be a datetime not object.\n",
    "|Quality | ```twitter_archive``` | Too many Missing values in columns: in_reply_to_status_id, in_reply_to_user_id, and expanded_urls. \n",
    "|Quality | ```twitter_archive``` | Too many duplicate values in column: source\n",
    "|Quality | ```twitter_archive``` | +0000 at the end of timestamp is not necessary.\n",
    "|Qaulity |```image_pred``` | jpg_url column is making the dataset not look neat - unnecessary for analysis. \n",
    "|Quality |```twitter_archive``` | Many missing names from the 'name' column: 'None', and random names like 'a', 'an'\n",
    "|Quality |```twitter_archive``` |  Redundant retweet rows. Remove values in the retweeted_status_id, retweeted_status_user_id, and retweeted_status_timestamp columns \n",
    "|Quality |```twitter_archive``` | Some rating_numerators were extracted incorrectly\n",
    "|Tidiness | ```twitter_archive``` | Each column for the dog stage should be merged into one column as 'dog_stage'\n",
    "|Tidiness | ```twitter_archive``` | Data does not need to be split over three datasets - the other two datasets should be joined to ```twitter_archive```"
   ]
  },
  {
   "cell_type": "markdown",
   "metadata": {},
   "source": [
    "## Data Cleaning\n",
    "Before running any cleaning operations, I have copied all the three DataFrames using .copy() method- \n",
    "\n",
    "```twitter_archive_clean = twitter_archive.copy()```\n",
    "\n",
    "```image_pred_clean = image_pred.copy()```\n",
    "\n",
    "```retweet_favourite_count_clean = retweet_favourite_count.copy()```\n",
    "\n",
    "\n",
    "\n",
    "### Cleaning Steps \n",
    "\n",
    "\n",
    "- tweet_id should be object, rating_denominator and rating_numerator should be floats not integers, tweet_id column in image prediction should be an object (string), timestamp field should be a datetime not object.\n",
    "- Dropped all the columns with missing values\n",
    "- rating_denominator and rating_numerator were changed to float data type \n",
    "- Extracted rating_numerators correctly and changed data type to float \n",
    "- Source column was dropped because we don't need it for analysis\n",
    "- Removed +0000 from the timestamp and changed it to datetime format \n",
    "- Removed any names with small letters as they are most likely not correct from the 'name' column\n",
    "- jpg_url column was dropped \n",
    "- Dog stages were merged into a single column \n",
    "\n",
    "After cleaning, ```twitter_archive_clean, image_pred and retweet_favourite_count ``` were merged to form a master dataset."
   ]
  },
  {
   "cell_type": "markdown",
   "metadata": {},
   "source": [
    "## Conclusion\n",
    "\n",
    "The data has been assessed and cleaned so it ready for analysis. I combined the 3 datasets into ```twitter_archive_master.csv```\n",
    "This master dataset is not completely free of quality issues because data wrangling is an iterative process so it is still possible for more cleaning to be done. \n",
    "\n",
    "This file has **1896** rows and **19** columns."
   ]
  },
  {
   "cell_type": "code",
   "execution_count": null,
   "metadata": {},
   "outputs": [],
   "source": []
  }
 ],
 "metadata": {
  "kernelspec": {
   "display_name": "Python 3 (ipykernel)",
   "language": "python",
   "name": "python3"
  },
  "language_info": {
   "codemirror_mode": {
    "name": "ipython",
    "version": 3
   },
   "file_extension": ".py",
   "mimetype": "text/x-python",
   "name": "python",
   "nbconvert_exporter": "python",
   "pygments_lexer": "ipython3",
   "version": "3.9.12"
  }
 },
 "nbformat": 4,
 "nbformat_minor": 2
}
