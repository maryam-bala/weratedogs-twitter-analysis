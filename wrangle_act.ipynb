{
 "cells": [
  {
   "cell_type": "markdown",
   "id": "f373bdbc",
   "metadata": {},
   "source": [
    "# Gathering Data "
   ]
  },
  {
   "cell_type": "code",
   "execution_count": 1,
   "id": "38dc93a1",
   "metadata": {},
   "outputs": [],
   "source": [
    "import pandas as pd \n",
    "import pandas as pd\n",
    "import numpy as np\n",
    "import json\n",
    "import matplotlib.pyplot as plt\n",
    "%matplotlib inline\n",
    "import seaborn as sns"
   ]
  },
  {
   "cell_type": "code",
   "execution_count": 2,
   "id": "6958c757",
   "metadata": {},
   "outputs": [],
   "source": [
    "# read twitter achive file into a dataframe \n",
    "twitter_archive = pd.read_csv('twitter-archive-enhanced.csv')"
   ]
  },
  {
   "cell_type": "code",
   "execution_count": null,
   "id": "1aecfc90",
   "metadata": {},
   "outputs": [],
   "source": [
    "# Download the image-predictions.tsv file programmatically and load it into a dataframe \n",
    "import requests\n",
    "\n",
    "url = 'https://d17h27t6h515a5.cloudfront.net/topher/2017/August/599fd2ad_image-predictions/image-predictions.tsv'\n",
    "response = requests.get(url)\n",
    "\n",
    "# Save HTML to file\n",
    "with open ('image-predictions.tsv', mode='wb') as file:\n",
    "    file.write(response.content)"
   ]
  },
  {
   "cell_type": "code",
   "execution_count": 3,
   "id": "6b53bc73",
   "metadata": {},
   "outputs": [],
   "source": [
    "# image prediction file into dataframe\n",
    "image_pred = pd.read_csv('image-predictions.tsv',sep=\"\\t\")"
   ]
  },
  {
   "cell_type": "code",
   "execution_count": null,
   "id": "034adf2b",
   "metadata": {},
   "outputs": [],
   "source": [
    "import tweepy\n",
    "from tweepy import OAuthHandler\n",
    "from timeit import default_timer as timer\n",
    "\n",
    "# Query Twitter API for each tweet in the Twitter archive and save JSON in a text file\n",
    "# These are hidden to comply with Twitter's API terms and conditions\n",
    "consumer_key = 'HIDDEN'\n",
    "consumer_secret = 'HIDDEN'\n",
    "access_token = 'HIDDEN'\n",
    "access_secret = 'HIDDEN'\n",
    "\n",
    "auth = OAuthHandler(consumer_key, consumer_secret)\n",
    "auth.set_access_token(access_token, access_secret)\n",
    "\n",
    "api = tweepy.API(auth, wait_on_rate_limit=True, wait_on_rate_limit_notify=True)\n",
    "\n",
    "# NOTE TO REVIEWER: this student had mobile verification issues so the following\n",
    "# Twitter API code was sent to this student from a Udacity instructor\n",
    "# Tweet IDs for which to gather additional data via Twitter's API\n",
    "tweet_ids = df_archive.tweet_id.values\n",
    "len(tweet_ids)\n",
    "\n",
    "# Query Twitter's API for JSON data for each tweet ID in the Twitter archive\n",
    "count = 0\n",
    "fails_dict = {}\n",
    "start = timer()\n",
    "\n",
    "# Save each tweet's returned JSON as a new line in a .txt file\n",
    "with open('tweet_json.txt', 'w') as outfile:\n",
    "    for tweet_id in tweet_ids:\n",
    "        count += 1\n",
    "        print(str(count) + \": \" + str(tweet_id))\n",
    "        try:\n",
    "            tweet = api.get_status(tweet_id, tweet_mode='extended')\n",
    "            print(\"Success\")\n",
    "            json.dump(tweet._json, outfile)\n",
    "            outfile.write('\\n')\n",
    "        except tweepy.TweepError as e:\n",
    "            print(\"Fail\")\n",
    "            fails_dict[tweet_id] = e\n",
    "            pass\n",
    "end = timer()\n",
    "print(end - start)\n",
    "print(fails_dict) "
   ]
  },
  {
   "cell_type": "code",
   "execution_count": 4,
   "id": "fc676b3a",
   "metadata": {
    "scrolled": false
   },
   "outputs": [],
   "source": [
    "tweet_list = []\n",
    "with open('tweet_json.txt') as json_file:\n",
    "    for line in json_file:\n",
    "        data = json.loads(line)\n",
    "        keys = data.keys()\n",
    "        user = data.get('user')\n",
    "        tweet_id = data.get('id_str')\n",
    "        retweet_count = data.get('retweet_count')\n",
    "        favorite_count = data.get('favorite_count')\n",
    "        tweet_list.append({'tweet_id': tweet_id,\n",
    "                        'retweet_count': retweet_count,\n",
    "                        'favorite_count': favorite_count})      "
   ]
  },
  {
   "cell_type": "code",
   "execution_count": 5,
   "id": "8982f940",
   "metadata": {},
   "outputs": [],
   "source": [
    "retweet_favourite_count = pd.DataFrame(tweet_list, columns = ['tweet_id', 'retweet_count', 'favorite_count'])"
   ]
  },
  {
   "cell_type": "markdown",
   "id": "644fd45c",
   "metadata": {},
   "source": [
    "# Assessing Data - Visual and Programmatic Assessment "
   ]
  },
  {
   "cell_type": "markdown",
   "id": "b8d747c1",
   "metadata": {},
   "source": [
    "### Enhanced Twitter Archive"
   ]
  },
  {
   "cell_type": "code",
   "execution_count": 6,
   "id": "f93a4fab",
   "metadata": {},
   "outputs": [
    {
     "data": {
      "text/html": [
       "<div>\n",
       "<style scoped>\n",
       "    .dataframe tbody tr th:only-of-type {\n",
       "        vertical-align: middle;\n",
       "    }\n",
       "\n",
       "    .dataframe tbody tr th {\n",
       "        vertical-align: top;\n",
       "    }\n",
       "\n",
       "    .dataframe thead th {\n",
       "        text-align: right;\n",
       "    }\n",
       "</style>\n",
       "<table border=\"1\" class=\"dataframe\">\n",
       "  <thead>\n",
       "    <tr style=\"text-align: right;\">\n",
       "      <th></th>\n",
       "      <th>tweet_id</th>\n",
       "      <th>in_reply_to_status_id</th>\n",
       "      <th>in_reply_to_user_id</th>\n",
       "      <th>timestamp</th>\n",
       "      <th>source</th>\n",
       "      <th>text</th>\n",
       "      <th>retweeted_status_id</th>\n",
       "      <th>retweeted_status_user_id</th>\n",
       "      <th>retweeted_status_timestamp</th>\n",
       "      <th>expanded_urls</th>\n",
       "      <th>rating_numerator</th>\n",
       "      <th>rating_denominator</th>\n",
       "      <th>name</th>\n",
       "      <th>doggo</th>\n",
       "      <th>floofer</th>\n",
       "      <th>pupper</th>\n",
       "      <th>puppo</th>\n",
       "    </tr>\n",
       "  </thead>\n",
       "  <tbody>\n",
       "    <tr>\n",
       "      <th>1984</th>\n",
       "      <td>672902681409806336</td>\n",
       "      <td>NaN</td>\n",
       "      <td>NaN</td>\n",
       "      <td>2015-12-04 22:17:55 +0000</td>\n",
       "      <td>&lt;a href=\"http://twitter.com/download/iphone\" r...</td>\n",
       "      <td>This is Jimison. He's stuck in a pot. Damn it ...</td>\n",
       "      <td>NaN</td>\n",
       "      <td>NaN</td>\n",
       "      <td>NaN</td>\n",
       "      <td>https://twitter.com/dog_rates/status/672902681...</td>\n",
       "      <td>9</td>\n",
       "      <td>10</td>\n",
       "      <td>Jimison</td>\n",
       "      <td>None</td>\n",
       "      <td>None</td>\n",
       "      <td>None</td>\n",
       "      <td>None</td>\n",
       "    </tr>\n",
       "    <tr>\n",
       "      <th>1544</th>\n",
       "      <td>689517482558820352</td>\n",
       "      <td>NaN</td>\n",
       "      <td>NaN</td>\n",
       "      <td>2016-01-19 18:39:13 +0000</td>\n",
       "      <td>&lt;a href=\"http://twitter.com/download/iphone\" r...</td>\n",
       "      <td>This is Carl. He just wants to make sure you'r...</td>\n",
       "      <td>NaN</td>\n",
       "      <td>NaN</td>\n",
       "      <td>NaN</td>\n",
       "      <td>https://twitter.com/dog_rates/status/689517482...</td>\n",
       "      <td>12</td>\n",
       "      <td>10</td>\n",
       "      <td>Carl</td>\n",
       "      <td>None</td>\n",
       "      <td>None</td>\n",
       "      <td>None</td>\n",
       "      <td>None</td>\n",
       "    </tr>\n",
       "    <tr>\n",
       "      <th>32</th>\n",
       "      <td>886054160059072513</td>\n",
       "      <td>NaN</td>\n",
       "      <td>NaN</td>\n",
       "      <td>2017-07-15 02:45:48 +0000</td>\n",
       "      <td>&lt;a href=\"http://twitter.com/download/iphone\" r...</td>\n",
       "      <td>RT @Athletics: 12/10 #BATP https://t.co/WxwJmv...</td>\n",
       "      <td>8.860537e+17</td>\n",
       "      <td>19607400.0</td>\n",
       "      <td>2017-07-15 02:44:07 +0000</td>\n",
       "      <td>https://twitter.com/dog_rates/status/886053434...</td>\n",
       "      <td>12</td>\n",
       "      <td>10</td>\n",
       "      <td>None</td>\n",
       "      <td>None</td>\n",
       "      <td>None</td>\n",
       "      <td>None</td>\n",
       "      <td>None</td>\n",
       "    </tr>\n",
       "    <tr>\n",
       "      <th>76</th>\n",
       "      <td>878057613040115712</td>\n",
       "      <td>NaN</td>\n",
       "      <td>NaN</td>\n",
       "      <td>2017-06-23 01:10:23 +0000</td>\n",
       "      <td>&lt;a href=\"http://twitter.com/download/iphone\" r...</td>\n",
       "      <td>This is Emmy. She was adopted today. Massive r...</td>\n",
       "      <td>NaN</td>\n",
       "      <td>NaN</td>\n",
       "      <td>NaN</td>\n",
       "      <td>https://twitter.com/dog_rates/status/878057613...</td>\n",
       "      <td>14</td>\n",
       "      <td>10</td>\n",
       "      <td>Emmy</td>\n",
       "      <td>None</td>\n",
       "      <td>None</td>\n",
       "      <td>None</td>\n",
       "      <td>None</td>\n",
       "    </tr>\n",
       "    <tr>\n",
       "      <th>1547</th>\n",
       "      <td>689280876073582592</td>\n",
       "      <td>NaN</td>\n",
       "      <td>NaN</td>\n",
       "      <td>2016-01-19 02:59:01 +0000</td>\n",
       "      <td>&lt;a href=\"http://twitter.com/download/iphone\" r...</td>\n",
       "      <td>This is Herald. He wants you to know he could ...</td>\n",
       "      <td>NaN</td>\n",
       "      <td>NaN</td>\n",
       "      <td>NaN</td>\n",
       "      <td>https://twitter.com/dog_rates/status/689280876...</td>\n",
       "      <td>10</td>\n",
       "      <td>10</td>\n",
       "      <td>Herald</td>\n",
       "      <td>None</td>\n",
       "      <td>None</td>\n",
       "      <td>None</td>\n",
       "      <td>None</td>\n",
       "    </tr>\n",
       "    <tr>\n",
       "      <th>2111</th>\n",
       "      <td>670442337873600512</td>\n",
       "      <td>NaN</td>\n",
       "      <td>NaN</td>\n",
       "      <td>2015-11-28 03:21:24 +0000</td>\n",
       "      <td>&lt;a href=\"http://twitter.com/download/iphone\" r...</td>\n",
       "      <td>Meet Koda. He's large. Looks very soft. Great ...</td>\n",
       "      <td>NaN</td>\n",
       "      <td>NaN</td>\n",
       "      <td>NaN</td>\n",
       "      <td>https://twitter.com/dog_rates/status/670442337...</td>\n",
       "      <td>11</td>\n",
       "      <td>10</td>\n",
       "      <td>Koda</td>\n",
       "      <td>None</td>\n",
       "      <td>None</td>\n",
       "      <td>None</td>\n",
       "      <td>None</td>\n",
       "    </tr>\n",
       "    <tr>\n",
       "      <th>1992</th>\n",
       "      <td>672614745925664768</td>\n",
       "      <td>NaN</td>\n",
       "      <td>NaN</td>\n",
       "      <td>2015-12-04 03:13:46 +0000</td>\n",
       "      <td>&lt;a href=\"http://twitter.com/download/iphone\" r...</td>\n",
       "      <td>This is Norman. Doesn't bark much. Very docile...</td>\n",
       "      <td>NaN</td>\n",
       "      <td>NaN</td>\n",
       "      <td>NaN</td>\n",
       "      <td>https://twitter.com/dog_rates/status/672614745...</td>\n",
       "      <td>6</td>\n",
       "      <td>10</td>\n",
       "      <td>Norman</td>\n",
       "      <td>None</td>\n",
       "      <td>None</td>\n",
       "      <td>pupper</td>\n",
       "      <td>None</td>\n",
       "    </tr>\n",
       "    <tr>\n",
       "      <th>83</th>\n",
       "      <td>876537666061221889</td>\n",
       "      <td>NaN</td>\n",
       "      <td>NaN</td>\n",
       "      <td>2017-06-18 20:30:39 +0000</td>\n",
       "      <td>&lt;a href=\"http://twitter.com/download/iphone\" r...</td>\n",
       "      <td>I can say with the pupmost confidence that the...</td>\n",
       "      <td>NaN</td>\n",
       "      <td>NaN</td>\n",
       "      <td>NaN</td>\n",
       "      <td>https://twitter.com/mpstowerham/status/8761629...</td>\n",
       "      <td>14</td>\n",
       "      <td>10</td>\n",
       "      <td>None</td>\n",
       "      <td>None</td>\n",
       "      <td>None</td>\n",
       "      <td>None</td>\n",
       "      <td>None</td>\n",
       "    </tr>\n",
       "    <tr>\n",
       "      <th>1022</th>\n",
       "      <td>746542875601690625</td>\n",
       "      <td>NaN</td>\n",
       "      <td>NaN</td>\n",
       "      <td>2016-06-25 03:17:46 +0000</td>\n",
       "      <td>&lt;a href=\"http://vine.co\" rel=\"nofollow\"&gt;Vine -...</td>\n",
       "      <td>Here's a golden floofer helping with the groce...</td>\n",
       "      <td>NaN</td>\n",
       "      <td>NaN</td>\n",
       "      <td>NaN</td>\n",
       "      <td>https://vine.co/v/5uZYwqmuDeT</td>\n",
       "      <td>11</td>\n",
       "      <td>10</td>\n",
       "      <td>None</td>\n",
       "      <td>None</td>\n",
       "      <td>floofer</td>\n",
       "      <td>None</td>\n",
       "      <td>None</td>\n",
       "    </tr>\n",
       "    <tr>\n",
       "      <th>1701</th>\n",
       "      <td>680940246314430465</td>\n",
       "      <td>NaN</td>\n",
       "      <td>NaN</td>\n",
       "      <td>2015-12-27 02:36:20 +0000</td>\n",
       "      <td>&lt;a href=\"http://twitter.com/download/iphone\" r...</td>\n",
       "      <td>This is Alice. She's an idiot. 4/10 https://t....</td>\n",
       "      <td>NaN</td>\n",
       "      <td>NaN</td>\n",
       "      <td>NaN</td>\n",
       "      <td>https://twitter.com/dog_rates/status/680940246...</td>\n",
       "      <td>4</td>\n",
       "      <td>10</td>\n",
       "      <td>Alice</td>\n",
       "      <td>None</td>\n",
       "      <td>None</td>\n",
       "      <td>None</td>\n",
       "      <td>None</td>\n",
       "    </tr>\n",
       "  </tbody>\n",
       "</table>\n",
       "</div>"
      ],
      "text/plain": [
       "                tweet_id  in_reply_to_status_id  in_reply_to_user_id  \\\n",
       "1984  672902681409806336                    NaN                  NaN   \n",
       "1544  689517482558820352                    NaN                  NaN   \n",
       "32    886054160059072513                    NaN                  NaN   \n",
       "76    878057613040115712                    NaN                  NaN   \n",
       "1547  689280876073582592                    NaN                  NaN   \n",
       "2111  670442337873600512                    NaN                  NaN   \n",
       "1992  672614745925664768                    NaN                  NaN   \n",
       "83    876537666061221889                    NaN                  NaN   \n",
       "1022  746542875601690625                    NaN                  NaN   \n",
       "1701  680940246314430465                    NaN                  NaN   \n",
       "\n",
       "                      timestamp  \\\n",
       "1984  2015-12-04 22:17:55 +0000   \n",
       "1544  2016-01-19 18:39:13 +0000   \n",
       "32    2017-07-15 02:45:48 +0000   \n",
       "76    2017-06-23 01:10:23 +0000   \n",
       "1547  2016-01-19 02:59:01 +0000   \n",
       "2111  2015-11-28 03:21:24 +0000   \n",
       "1992  2015-12-04 03:13:46 +0000   \n",
       "83    2017-06-18 20:30:39 +0000   \n",
       "1022  2016-06-25 03:17:46 +0000   \n",
       "1701  2015-12-27 02:36:20 +0000   \n",
       "\n",
       "                                                 source  \\\n",
       "1984  <a href=\"http://twitter.com/download/iphone\" r...   \n",
       "1544  <a href=\"http://twitter.com/download/iphone\" r...   \n",
       "32    <a href=\"http://twitter.com/download/iphone\" r...   \n",
       "76    <a href=\"http://twitter.com/download/iphone\" r...   \n",
       "1547  <a href=\"http://twitter.com/download/iphone\" r...   \n",
       "2111  <a href=\"http://twitter.com/download/iphone\" r...   \n",
       "1992  <a href=\"http://twitter.com/download/iphone\" r...   \n",
       "83    <a href=\"http://twitter.com/download/iphone\" r...   \n",
       "1022  <a href=\"http://vine.co\" rel=\"nofollow\">Vine -...   \n",
       "1701  <a href=\"http://twitter.com/download/iphone\" r...   \n",
       "\n",
       "                                                   text  retweeted_status_id  \\\n",
       "1984  This is Jimison. He's stuck in a pot. Damn it ...                  NaN   \n",
       "1544  This is Carl. He just wants to make sure you'r...                  NaN   \n",
       "32    RT @Athletics: 12/10 #BATP https://t.co/WxwJmv...         8.860537e+17   \n",
       "76    This is Emmy. She was adopted today. Massive r...                  NaN   \n",
       "1547  This is Herald. He wants you to know he could ...                  NaN   \n",
       "2111  Meet Koda. He's large. Looks very soft. Great ...                  NaN   \n",
       "1992  This is Norman. Doesn't bark much. Very docile...                  NaN   \n",
       "83    I can say with the pupmost confidence that the...                  NaN   \n",
       "1022  Here's a golden floofer helping with the groce...                  NaN   \n",
       "1701  This is Alice. She's an idiot. 4/10 https://t....                  NaN   \n",
       "\n",
       "      retweeted_status_user_id retweeted_status_timestamp  \\\n",
       "1984                       NaN                        NaN   \n",
       "1544                       NaN                        NaN   \n",
       "32                  19607400.0  2017-07-15 02:44:07 +0000   \n",
       "76                         NaN                        NaN   \n",
       "1547                       NaN                        NaN   \n",
       "2111                       NaN                        NaN   \n",
       "1992                       NaN                        NaN   \n",
       "83                         NaN                        NaN   \n",
       "1022                       NaN                        NaN   \n",
       "1701                       NaN                        NaN   \n",
       "\n",
       "                                          expanded_urls  rating_numerator  \\\n",
       "1984  https://twitter.com/dog_rates/status/672902681...                 9   \n",
       "1544  https://twitter.com/dog_rates/status/689517482...                12   \n",
       "32    https://twitter.com/dog_rates/status/886053434...                12   \n",
       "76    https://twitter.com/dog_rates/status/878057613...                14   \n",
       "1547  https://twitter.com/dog_rates/status/689280876...                10   \n",
       "2111  https://twitter.com/dog_rates/status/670442337...                11   \n",
       "1992  https://twitter.com/dog_rates/status/672614745...                 6   \n",
       "83    https://twitter.com/mpstowerham/status/8761629...                14   \n",
       "1022                      https://vine.co/v/5uZYwqmuDeT                11   \n",
       "1701  https://twitter.com/dog_rates/status/680940246...                 4   \n",
       "\n",
       "      rating_denominator     name doggo  floofer  pupper puppo  \n",
       "1984                  10  Jimison  None     None    None  None  \n",
       "1544                  10     Carl  None     None    None  None  \n",
       "32                    10     None  None     None    None  None  \n",
       "76                    10     Emmy  None     None    None  None  \n",
       "1547                  10   Herald  None     None    None  None  \n",
       "2111                  10     Koda  None     None    None  None  \n",
       "1992                  10   Norman  None     None  pupper  None  \n",
       "83                    10     None  None     None    None  None  \n",
       "1022                  10     None  None  floofer    None  None  \n",
       "1701                  10    Alice  None     None    None  None  "
      ]
     },
     "execution_count": 6,
     "metadata": {},
     "output_type": "execute_result"
    }
   ],
   "source": [
    "twitter_archive.sample(10)"
   ]
  },
  {
   "cell_type": "code",
   "execution_count": 7,
   "id": "1e274542",
   "metadata": {},
   "outputs": [
    {
     "name": "stdout",
     "output_type": "stream",
     "text": [
      "<class 'pandas.core.frame.DataFrame'>\n",
      "RangeIndex: 2356 entries, 0 to 2355\n",
      "Data columns (total 17 columns):\n",
      " #   Column                      Non-Null Count  Dtype  \n",
      "---  ------                      --------------  -----  \n",
      " 0   tweet_id                    2356 non-null   int64  \n",
      " 1   in_reply_to_status_id       78 non-null     float64\n",
      " 2   in_reply_to_user_id         78 non-null     float64\n",
      " 3   timestamp                   2356 non-null   object \n",
      " 4   source                      2356 non-null   object \n",
      " 5   text                        2356 non-null   object \n",
      " 6   retweeted_status_id         181 non-null    float64\n",
      " 7   retweeted_status_user_id    181 non-null    float64\n",
      " 8   retweeted_status_timestamp  181 non-null    object \n",
      " 9   expanded_urls               2297 non-null   object \n",
      " 10  rating_numerator            2356 non-null   int64  \n",
      " 11  rating_denominator          2356 non-null   int64  \n",
      " 12  name                        2356 non-null   object \n",
      " 13  doggo                       2356 non-null   object \n",
      " 14  floofer                     2356 non-null   object \n",
      " 15  pupper                      2356 non-null   object \n",
      " 16  puppo                       2356 non-null   object \n",
      "dtypes: float64(4), int64(3), object(10)\n",
      "memory usage: 313.0+ KB\n"
     ]
    }
   ],
   "source": [
    "twitter_archive.info()"
   ]
  },
  {
   "cell_type": "code",
   "execution_count": 8,
   "id": "0849c773",
   "metadata": {},
   "outputs": [
    {
     "data": {
      "text/plain": [
       "2352"
      ]
     },
     "execution_count": 8,
     "metadata": {},
     "output_type": "execute_result"
    }
   ],
   "source": [
    "twitter_archive.source.duplicated().sum()"
   ]
  },
  {
   "cell_type": "code",
   "execution_count": 9,
   "id": "13ef76c0",
   "metadata": {},
   "outputs": [
    {
     "data": {
      "text/plain": [
       "tweet_id                         0\n",
       "in_reply_to_status_id         2278\n",
       "in_reply_to_user_id           2278\n",
       "timestamp                        0\n",
       "source                           0\n",
       "text                             0\n",
       "retweeted_status_id           2175\n",
       "retweeted_status_user_id      2175\n",
       "retweeted_status_timestamp    2175\n",
       "expanded_urls                   59\n",
       "rating_numerator                 0\n",
       "rating_denominator               0\n",
       "name                             0\n",
       "doggo                            0\n",
       "floofer                          0\n",
       "pupper                           0\n",
       "puppo                            0\n",
       "dtype: int64"
      ]
     },
     "execution_count": 9,
     "metadata": {},
     "output_type": "execute_result"
    }
   ],
   "source": [
    "twitter_archive.isnull().sum()"
   ]
  },
  {
   "cell_type": "code",
   "execution_count": 10,
   "id": "bcf62e0d",
   "metadata": {},
   "outputs": [
    {
     "data": {
      "text/plain": [
       "None          745\n",
       "a              55\n",
       "Charlie        12\n",
       "Cooper         11\n",
       "Lucy           11\n",
       "             ... \n",
       "Dex             1\n",
       "Ace             1\n",
       "Tayzie          1\n",
       "Grizzie         1\n",
       "Christoper      1\n",
       "Name: name, Length: 957, dtype: int64"
      ]
     },
     "execution_count": 10,
     "metadata": {},
     "output_type": "execute_result"
    }
   ],
   "source": [
    "twitter_archive.name.value_counts()"
   ]
  },
  {
   "cell_type": "code",
   "execution_count": 11,
   "id": "d2868fe9",
   "metadata": {},
   "outputs": [
    {
     "data": {
      "text/plain": [
       "998     10\n",
       "1594    10\n",
       "2253    10\n",
       "287     10\n",
       "1547    10\n",
       "1774    10\n",
       "2333    10\n",
       "2344    10\n",
       "151     10\n",
       "202     10\n",
       "2201    10\n",
       "555     10\n",
       "680     10\n",
       "792     10\n",
       "1071    10\n",
       "Name: rating_denominator, dtype: int64"
      ]
     },
     "execution_count": 11,
     "metadata": {},
     "output_type": "execute_result"
    }
   ],
   "source": [
    "twitter_archive.rating_denominator.sample(15)"
   ]
  },
  {
   "cell_type": "code",
   "execution_count": 12,
   "id": "0a1f9c3f",
   "metadata": {},
   "outputs": [
    {
     "data": {
      "text/plain": [
       "1611    10\n",
       "545     12\n",
       "398     12\n",
       "1083    11\n",
       "1217    12\n",
       "365     13\n",
       "1710     8\n",
       "134     12\n",
       "1934    11\n",
       "2290    10\n",
       "2305     3\n",
       "2045    10\n",
       "1425    10\n",
       "1071    10\n",
       "1564    10\n",
       "Name: rating_numerator, dtype: int64"
      ]
     },
     "execution_count": 12,
     "metadata": {},
     "output_type": "execute_result"
    }
   ],
   "source": [
    "twitter_archive.rating_numerator.sample(15)"
   ]
  },
  {
   "cell_type": "markdown",
   "id": "57885e7c",
   "metadata": {},
   "source": [
    "#### Observations from twitter_archive \n",
    "\n",
    "- There are 2356 rows and 17 columns \n",
    "- A quick visual assessment shows that have each column for the dog stage is not necessary - it is better to have one column for all the dog stages. There are also missing information for the dog stages\n",
    "-  There are Missing values in columns: in_reply_to_status_id, in_reply_to_user_id, retweeted_status_id, retweeted_status_user_id, and retweeted_status_timestamp and expanded_urls.They also will not be useful for any analysis\n",
    "- There 2352 duplicate values in the source column\n",
    "- There are many missing names from the name column:'None', and random names like'a', 'an'\n",
    "- rating_denominator and rating_numerator: should be floats not integers since it is possible for dog ratings to have a number with a decimal either in the denominator or numerator. \n",
    "- The max values for both rating_numerator and rating_denominator are huge: 1776, 170. The minimum is 0 for both\n",
    "- timestamp field should be a datetime not object, +0000 at the end of timestamp redundant.\n"
   ]
  },
  {
   "cell_type": "markdown",
   "id": "dc36a1fd",
   "metadata": {},
   "source": [
    "### Image Predictions File"
   ]
  },
  {
   "cell_type": "code",
   "execution_count": 13,
   "id": "6b66d5a7",
   "metadata": {},
   "outputs": [
    {
     "data": {
      "text/html": [
       "<div>\n",
       "<style scoped>\n",
       "    .dataframe tbody tr th:only-of-type {\n",
       "        vertical-align: middle;\n",
       "    }\n",
       "\n",
       "    .dataframe tbody tr th {\n",
       "        vertical-align: top;\n",
       "    }\n",
       "\n",
       "    .dataframe thead th {\n",
       "        text-align: right;\n",
       "    }\n",
       "</style>\n",
       "<table border=\"1\" class=\"dataframe\">\n",
       "  <thead>\n",
       "    <tr style=\"text-align: right;\">\n",
       "      <th></th>\n",
       "      <th>tweet_id</th>\n",
       "      <th>jpg_url</th>\n",
       "      <th>img_num</th>\n",
       "      <th>p1</th>\n",
       "      <th>p1_conf</th>\n",
       "      <th>p1_dog</th>\n",
       "      <th>p2</th>\n",
       "      <th>p2_conf</th>\n",
       "      <th>p2_dog</th>\n",
       "      <th>p3</th>\n",
       "      <th>p3_conf</th>\n",
       "      <th>p3_dog</th>\n",
       "    </tr>\n",
       "  </thead>\n",
       "  <tbody>\n",
       "    <tr>\n",
       "      <th>1481</th>\n",
       "      <td>780931614150983680</td>\n",
       "      <td>https://pbs.twimg.com/media/CtZtJxAXEAAyPGd.jpg</td>\n",
       "      <td>1</td>\n",
       "      <td>padlock</td>\n",
       "      <td>0.731564</td>\n",
       "      <td>False</td>\n",
       "      <td>necklace</td>\n",
       "      <td>0.065462</td>\n",
       "      <td>False</td>\n",
       "      <td>chain</td>\n",
       "      <td>0.036469</td>\n",
       "      <td>False</td>\n",
       "    </tr>\n",
       "    <tr>\n",
       "      <th>1139</th>\n",
       "      <td>729463711119904772</td>\n",
       "      <td>https://pbs.twimg.com/media/Ch-TXpFXAAAwPGf.jpg</td>\n",
       "      <td>1</td>\n",
       "      <td>German_shepherd</td>\n",
       "      <td>0.829307</td>\n",
       "      <td>True</td>\n",
       "      <td>Doberman</td>\n",
       "      <td>0.022500</td>\n",
       "      <td>True</td>\n",
       "      <td>basenji</td>\n",
       "      <td>0.021190</td>\n",
       "      <td>True</td>\n",
       "    </tr>\n",
       "    <tr>\n",
       "      <th>440</th>\n",
       "      <td>674447403907457024</td>\n",
       "      <td>https://pbs.twimg.com/media/CVweVUfW4AACPwI.jpg</td>\n",
       "      <td>1</td>\n",
       "      <td>Brabancon_griffon</td>\n",
       "      <td>0.409909</td>\n",
       "      <td>True</td>\n",
       "      <td>malinois</td>\n",
       "      <td>0.244649</td>\n",
       "      <td>True</td>\n",
       "      <td>bull_mastiff</td>\n",
       "      <td>0.074819</td>\n",
       "      <td>True</td>\n",
       "    </tr>\n",
       "    <tr>\n",
       "      <th>904</th>\n",
       "      <td>700143752053182464</td>\n",
       "      <td>https://pbs.twimg.com/media/CbdpBmLUYAY9SgQ.jpg</td>\n",
       "      <td>1</td>\n",
       "      <td>golden_retriever</td>\n",
       "      <td>0.532460</td>\n",
       "      <td>True</td>\n",
       "      <td>crossword_puzzle</td>\n",
       "      <td>0.103796</td>\n",
       "      <td>False</td>\n",
       "      <td>binder</td>\n",
       "      <td>0.100371</td>\n",
       "      <td>False</td>\n",
       "    </tr>\n",
       "    <tr>\n",
       "      <th>916</th>\n",
       "      <td>701545186879471618</td>\n",
       "      <td>https://pbs.twimg.com/media/CbxjnyOWAAAWLUH.jpg</td>\n",
       "      <td>1</td>\n",
       "      <td>Border_collie</td>\n",
       "      <td>0.280893</td>\n",
       "      <td>True</td>\n",
       "      <td>Cardigan</td>\n",
       "      <td>0.112550</td>\n",
       "      <td>True</td>\n",
       "      <td>toy_terrier</td>\n",
       "      <td>0.053317</td>\n",
       "      <td>True</td>\n",
       "    </tr>\n",
       "    <tr>\n",
       "      <th>36</th>\n",
       "      <td>666447344410484738</td>\n",
       "      <td>https://pbs.twimg.com/media/CT-yU5QWwAEjLX5.jpg</td>\n",
       "      <td>1</td>\n",
       "      <td>curly-coated_retriever</td>\n",
       "      <td>0.322084</td>\n",
       "      <td>True</td>\n",
       "      <td>giant_schnauzer</td>\n",
       "      <td>0.287955</td>\n",
       "      <td>True</td>\n",
       "      <td>Labrador_retriever</td>\n",
       "      <td>0.166331</td>\n",
       "      <td>True</td>\n",
       "    </tr>\n",
       "    <tr>\n",
       "      <th>1200</th>\n",
       "      <td>740995100998766593</td>\n",
       "      <td>https://pbs.twimg.com/media/CkiLHCjUUAAPwUr.jpg</td>\n",
       "      <td>1</td>\n",
       "      <td>malamute</td>\n",
       "      <td>0.454363</td>\n",
       "      <td>True</td>\n",
       "      <td>Samoyed</td>\n",
       "      <td>0.215967</td>\n",
       "      <td>True</td>\n",
       "      <td>Siberian_husky</td>\n",
       "      <td>0.077500</td>\n",
       "      <td>True</td>\n",
       "    </tr>\n",
       "    <tr>\n",
       "      <th>486</th>\n",
       "      <td>675497103322386432</td>\n",
       "      <td>https://pbs.twimg.com/media/CV_ZAhcUkAUeKtZ.jpg</td>\n",
       "      <td>1</td>\n",
       "      <td>vizsla</td>\n",
       "      <td>0.519589</td>\n",
       "      <td>True</td>\n",
       "      <td>miniature_pinscher</td>\n",
       "      <td>0.064771</td>\n",
       "      <td>True</td>\n",
       "      <td>Rhodesian_ridgeback</td>\n",
       "      <td>0.061491</td>\n",
       "      <td>True</td>\n",
       "    </tr>\n",
       "    <tr>\n",
       "      <th>1905</th>\n",
       "      <td>852226086759018497</td>\n",
       "      <td>https://pbs.twimg.com/ext_tw_video_thumb/85222...</td>\n",
       "      <td>1</td>\n",
       "      <td>prison</td>\n",
       "      <td>0.352793</td>\n",
       "      <td>False</td>\n",
       "      <td>dishwasher</td>\n",
       "      <td>0.110723</td>\n",
       "      <td>False</td>\n",
       "      <td>file</td>\n",
       "      <td>0.094112</td>\n",
       "      <td>False</td>\n",
       "    </tr>\n",
       "    <tr>\n",
       "      <th>976</th>\n",
       "      <td>707021089608753152</td>\n",
       "      <td>https://pbs.twimg.com/media/Cc_XtkRW8AEE7Fn.jpg</td>\n",
       "      <td>2</td>\n",
       "      <td>cocker_spaniel</td>\n",
       "      <td>0.559658</td>\n",
       "      <td>True</td>\n",
       "      <td>golden_retriever</td>\n",
       "      <td>0.314673</td>\n",
       "      <td>True</td>\n",
       "      <td>Pekinese</td>\n",
       "      <td>0.066672</td>\n",
       "      <td>True</td>\n",
       "    </tr>\n",
       "    <tr>\n",
       "      <th>160</th>\n",
       "      <td>668902994700836864</td>\n",
       "      <td>https://pbs.twimg.com/media/CUhruUgUAAAa8FQ.jpg</td>\n",
       "      <td>1</td>\n",
       "      <td>Brittany_spaniel</td>\n",
       "      <td>0.828425</td>\n",
       "      <td>True</td>\n",
       "      <td>Ibizan_hound</td>\n",
       "      <td>0.043082</td>\n",
       "      <td>True</td>\n",
       "      <td>Blenheim_spaniel</td>\n",
       "      <td>0.028004</td>\n",
       "      <td>True</td>\n",
       "    </tr>\n",
       "    <tr>\n",
       "      <th>1904</th>\n",
       "      <td>852189679701164033</td>\n",
       "      <td>https://pbs.twimg.com/media/C9OV99SXsAEmj1U.jpg</td>\n",
       "      <td>1</td>\n",
       "      <td>barrow</td>\n",
       "      <td>0.423150</td>\n",
       "      <td>False</td>\n",
       "      <td>Bernese_mountain_dog</td>\n",
       "      <td>0.415374</td>\n",
       "      <td>True</td>\n",
       "      <td>EntleBucher</td>\n",
       "      <td>0.067345</td>\n",
       "      <td>True</td>\n",
       "    </tr>\n",
       "    <tr>\n",
       "      <th>312</th>\n",
       "      <td>671547767500775424</td>\n",
       "      <td>https://pbs.twimg.com/media/CVHRIiqWEAAj98K.jpg</td>\n",
       "      <td>2</td>\n",
       "      <td>Loafer</td>\n",
       "      <td>0.255088</td>\n",
       "      <td>False</td>\n",
       "      <td>platypus</td>\n",
       "      <td>0.090019</td>\n",
       "      <td>False</td>\n",
       "      <td>cowboy_boot</td>\n",
       "      <td>0.066536</td>\n",
       "      <td>False</td>\n",
       "    </tr>\n",
       "    <tr>\n",
       "      <th>1810</th>\n",
       "      <td>832769181346996225</td>\n",
       "      <td>https://pbs.twimg.com/media/C46UmzSVMAAqBug.jpg</td>\n",
       "      <td>1</td>\n",
       "      <td>jersey</td>\n",
       "      <td>0.895698</td>\n",
       "      <td>False</td>\n",
       "      <td>sweatshirt</td>\n",
       "      <td>0.089085</td>\n",
       "      <td>False</td>\n",
       "      <td>poncho</td>\n",
       "      <td>0.002975</td>\n",
       "      <td>False</td>\n",
       "    </tr>\n",
       "    <tr>\n",
       "      <th>1226</th>\n",
       "      <td>745057283344719872</td>\n",
       "      <td>https://pbs.twimg.com/media/Clb5pLJWMAE-QS1.jpg</td>\n",
       "      <td>2</td>\n",
       "      <td>Shetland_sheepdog</td>\n",
       "      <td>0.963985</td>\n",
       "      <td>True</td>\n",
       "      <td>collie</td>\n",
       "      <td>0.026206</td>\n",
       "      <td>True</td>\n",
       "      <td>Border_collie</td>\n",
       "      <td>0.004544</td>\n",
       "      <td>True</td>\n",
       "    </tr>\n",
       "  </tbody>\n",
       "</table>\n",
       "</div>"
      ],
      "text/plain": [
       "                tweet_id                                            jpg_url  \\\n",
       "1481  780931614150983680    https://pbs.twimg.com/media/CtZtJxAXEAAyPGd.jpg   \n",
       "1139  729463711119904772    https://pbs.twimg.com/media/Ch-TXpFXAAAwPGf.jpg   \n",
       "440   674447403907457024    https://pbs.twimg.com/media/CVweVUfW4AACPwI.jpg   \n",
       "904   700143752053182464    https://pbs.twimg.com/media/CbdpBmLUYAY9SgQ.jpg   \n",
       "916   701545186879471618    https://pbs.twimg.com/media/CbxjnyOWAAAWLUH.jpg   \n",
       "36    666447344410484738    https://pbs.twimg.com/media/CT-yU5QWwAEjLX5.jpg   \n",
       "1200  740995100998766593    https://pbs.twimg.com/media/CkiLHCjUUAAPwUr.jpg   \n",
       "486   675497103322386432    https://pbs.twimg.com/media/CV_ZAhcUkAUeKtZ.jpg   \n",
       "1905  852226086759018497  https://pbs.twimg.com/ext_tw_video_thumb/85222...   \n",
       "976   707021089608753152    https://pbs.twimg.com/media/Cc_XtkRW8AEE7Fn.jpg   \n",
       "160   668902994700836864    https://pbs.twimg.com/media/CUhruUgUAAAa8FQ.jpg   \n",
       "1904  852189679701164033    https://pbs.twimg.com/media/C9OV99SXsAEmj1U.jpg   \n",
       "312   671547767500775424    https://pbs.twimg.com/media/CVHRIiqWEAAj98K.jpg   \n",
       "1810  832769181346996225    https://pbs.twimg.com/media/C46UmzSVMAAqBug.jpg   \n",
       "1226  745057283344719872    https://pbs.twimg.com/media/Clb5pLJWMAE-QS1.jpg   \n",
       "\n",
       "      img_num                      p1   p1_conf  p1_dog                    p2  \\\n",
       "1481        1                 padlock  0.731564   False              necklace   \n",
       "1139        1         German_shepherd  0.829307    True              Doberman   \n",
       "440         1       Brabancon_griffon  0.409909    True              malinois   \n",
       "904         1        golden_retriever  0.532460    True      crossword_puzzle   \n",
       "916         1           Border_collie  0.280893    True              Cardigan   \n",
       "36          1  curly-coated_retriever  0.322084    True       giant_schnauzer   \n",
       "1200        1                malamute  0.454363    True               Samoyed   \n",
       "486         1                  vizsla  0.519589    True    miniature_pinscher   \n",
       "1905        1                  prison  0.352793   False            dishwasher   \n",
       "976         2          cocker_spaniel  0.559658    True      golden_retriever   \n",
       "160         1        Brittany_spaniel  0.828425    True          Ibizan_hound   \n",
       "1904        1                  barrow  0.423150   False  Bernese_mountain_dog   \n",
       "312         2                  Loafer  0.255088   False              platypus   \n",
       "1810        1                  jersey  0.895698   False            sweatshirt   \n",
       "1226        2       Shetland_sheepdog  0.963985    True                collie   \n",
       "\n",
       "       p2_conf  p2_dog                   p3   p3_conf  p3_dog  \n",
       "1481  0.065462   False                chain  0.036469   False  \n",
       "1139  0.022500    True              basenji  0.021190    True  \n",
       "440   0.244649    True         bull_mastiff  0.074819    True  \n",
       "904   0.103796   False               binder  0.100371   False  \n",
       "916   0.112550    True          toy_terrier  0.053317    True  \n",
       "36    0.287955    True   Labrador_retriever  0.166331    True  \n",
       "1200  0.215967    True       Siberian_husky  0.077500    True  \n",
       "486   0.064771    True  Rhodesian_ridgeback  0.061491    True  \n",
       "1905  0.110723   False                 file  0.094112   False  \n",
       "976   0.314673    True             Pekinese  0.066672    True  \n",
       "160   0.043082    True     Blenheim_spaniel  0.028004    True  \n",
       "1904  0.415374    True          EntleBucher  0.067345    True  \n",
       "312   0.090019   False          cowboy_boot  0.066536   False  \n",
       "1810  0.089085   False               poncho  0.002975   False  \n",
       "1226  0.026206    True        Border_collie  0.004544    True  "
      ]
     },
     "execution_count": 13,
     "metadata": {},
     "output_type": "execute_result"
    }
   ],
   "source": [
    "image_pred.sample(15)"
   ]
  },
  {
   "cell_type": "code",
   "execution_count": 14,
   "id": "2c9f87ef",
   "metadata": {},
   "outputs": [
    {
     "name": "stdout",
     "output_type": "stream",
     "text": [
      "<class 'pandas.core.frame.DataFrame'>\n",
      "RangeIndex: 2075 entries, 0 to 2074\n",
      "Data columns (total 12 columns):\n",
      " #   Column    Non-Null Count  Dtype  \n",
      "---  ------    --------------  -----  \n",
      " 0   tweet_id  2075 non-null   int64  \n",
      " 1   jpg_url   2075 non-null   object \n",
      " 2   img_num   2075 non-null   int64  \n",
      " 3   p1        2075 non-null   object \n",
      " 4   p1_conf   2075 non-null   float64\n",
      " 5   p1_dog    2075 non-null   bool   \n",
      " 6   p2        2075 non-null   object \n",
      " 7   p2_conf   2075 non-null   float64\n",
      " 8   p2_dog    2075 non-null   bool   \n",
      " 9   p3        2075 non-null   object \n",
      " 10  p3_conf   2075 non-null   float64\n",
      " 11  p3_dog    2075 non-null   bool   \n",
      "dtypes: bool(3), float64(3), int64(2), object(4)\n",
      "memory usage: 152.1+ KB\n"
     ]
    }
   ],
   "source": [
    "image_pred.info()"
   ]
  },
  {
   "cell_type": "code",
   "execution_count": 15,
   "id": "a2c92034",
   "metadata": {},
   "outputs": [
    {
     "data": {
      "text/plain": [
       "0"
      ]
     },
     "execution_count": 15,
     "metadata": {},
     "output_type": "execute_result"
    }
   ],
   "source": [
    "image_pred.duplicated().sum()"
   ]
  },
  {
   "cell_type": "code",
   "execution_count": 16,
   "id": "37280c4e",
   "metadata": {},
   "outputs": [
    {
     "data": {
      "text/plain": [
       "1262    German_short-haired_pointer\n",
       "367                       Chihuahua\n",
       "1684               golden_retriever\n",
       "1028                       malamute\n",
       "117                          Angora\n",
       "282                        Shih-Tzu\n",
       "502                golden_retriever\n",
       "91                       Pomeranian\n",
       "417                      Pomeranian\n",
       "938                    window_shade\n",
       "Name: p1, dtype: object"
      ]
     },
     "execution_count": 16,
     "metadata": {},
     "output_type": "execute_result"
    }
   ],
   "source": [
    "image_pred.p1.sample(10)"
   ]
  },
  {
   "cell_type": "markdown",
   "id": "3023ab7a",
   "metadata": {},
   "source": [
    "#### Observations from image_pred\n",
    "\n",
    "- There are 2075 rows and 12 columns \n",
    "- tweet_id column should be an object (string) not int"
   ]
  },
  {
   "cell_type": "markdown",
   "id": "db22e404",
   "metadata": {},
   "source": [
    "### Retweet and Favourite Count File "
   ]
  },
  {
   "cell_type": "code",
   "execution_count": 17,
   "id": "f067deaf",
   "metadata": {},
   "outputs": [
    {
     "data": {
      "text/html": [
       "<div>\n",
       "<style scoped>\n",
       "    .dataframe tbody tr th:only-of-type {\n",
       "        vertical-align: middle;\n",
       "    }\n",
       "\n",
       "    .dataframe tbody tr th {\n",
       "        vertical-align: top;\n",
       "    }\n",
       "\n",
       "    .dataframe thead th {\n",
       "        text-align: right;\n",
       "    }\n",
       "</style>\n",
       "<table border=\"1\" class=\"dataframe\">\n",
       "  <thead>\n",
       "    <tr style=\"text-align: right;\">\n",
       "      <th></th>\n",
       "      <th>tweet_id</th>\n",
       "      <th>retweet_count</th>\n",
       "      <th>favorite_count</th>\n",
       "    </tr>\n",
       "  </thead>\n",
       "  <tbody>\n",
       "    <tr>\n",
       "      <th>2241</th>\n",
       "      <td>667902449697558528</td>\n",
       "      <td>396</td>\n",
       "      <td>905</td>\n",
       "    </tr>\n",
       "    <tr>\n",
       "      <th>2239</th>\n",
       "      <td>667915453470232577</td>\n",
       "      <td>59</td>\n",
       "      <td>222</td>\n",
       "    </tr>\n",
       "    <tr>\n",
       "      <th>1650</th>\n",
       "      <td>683481228088049664</td>\n",
       "      <td>1118</td>\n",
       "      <td>2878</td>\n",
       "    </tr>\n",
       "    <tr>\n",
       "      <th>106</th>\n",
       "      <td>871762521631449091</td>\n",
       "      <td>3678</td>\n",
       "      <td>20787</td>\n",
       "    </tr>\n",
       "    <tr>\n",
       "      <th>903</th>\n",
       "      <td>758099635764359168</td>\n",
       "      <td>11550</td>\n",
       "      <td>21302</td>\n",
       "    </tr>\n",
       "    <tr>\n",
       "      <th>1501</th>\n",
       "      <td>692017291282812928</td>\n",
       "      <td>1081</td>\n",
       "      <td>3153</td>\n",
       "    </tr>\n",
       "    <tr>\n",
       "      <th>938</th>\n",
       "      <td>753026973505581056</td>\n",
       "      <td>1109</td>\n",
       "      <td>4283</td>\n",
       "    </tr>\n",
       "    <tr>\n",
       "      <th>172</th>\n",
       "      <td>858471635011153920</td>\n",
       "      <td>5271</td>\n",
       "      <td>22640</td>\n",
       "    </tr>\n",
       "    <tr>\n",
       "      <th>1421</th>\n",
       "      <td>697995514407682048</td>\n",
       "      <td>372</td>\n",
       "      <td>1665</td>\n",
       "    </tr>\n",
       "    <tr>\n",
       "      <th>528</th>\n",
       "      <td>808344865868283904</td>\n",
       "      <td>24069</td>\n",
       "      <td>47281</td>\n",
       "    </tr>\n",
       "    <tr>\n",
       "      <th>512</th>\n",
       "      <td>811647686436880384</td>\n",
       "      <td>872</td>\n",
       "      <td>6215</td>\n",
       "    </tr>\n",
       "    <tr>\n",
       "      <th>129</th>\n",
       "      <td>867072653475098625</td>\n",
       "      <td>135</td>\n",
       "      <td>0</td>\n",
       "    </tr>\n",
       "    <tr>\n",
       "      <th>1318</th>\n",
       "      <td>706346369204748288</td>\n",
       "      <td>1035</td>\n",
       "      <td>3768</td>\n",
       "    </tr>\n",
       "    <tr>\n",
       "      <th>1131</th>\n",
       "      <td>728751179681943552</td>\n",
       "      <td>757</td>\n",
       "      <td>3032</td>\n",
       "    </tr>\n",
       "    <tr>\n",
       "      <th>352</th>\n",
       "      <td>831309418084069378</td>\n",
       "      <td>2786</td>\n",
       "      <td>12819</td>\n",
       "    </tr>\n",
       "  </tbody>\n",
       "</table>\n",
       "</div>"
      ],
      "text/plain": [
       "                tweet_id  retweet_count  favorite_count\n",
       "2241  667902449697558528            396             905\n",
       "2239  667915453470232577             59             222\n",
       "1650  683481228088049664           1118            2878\n",
       "106   871762521631449091           3678           20787\n",
       "903   758099635764359168          11550           21302\n",
       "1501  692017291282812928           1081            3153\n",
       "938   753026973505581056           1109            4283\n",
       "172   858471635011153920           5271           22640\n",
       "1421  697995514407682048            372            1665\n",
       "528   808344865868283904          24069           47281\n",
       "512   811647686436880384            872            6215\n",
       "129   867072653475098625            135               0\n",
       "1318  706346369204748288           1035            3768\n",
       "1131  728751179681943552            757            3032\n",
       "352   831309418084069378           2786           12819"
      ]
     },
     "execution_count": 17,
     "metadata": {},
     "output_type": "execute_result"
    }
   ],
   "source": [
    "retweet_favourite_count.sample(15)"
   ]
  },
  {
   "cell_type": "code",
   "execution_count": 18,
   "id": "74c647eb",
   "metadata": {},
   "outputs": [
    {
     "name": "stdout",
     "output_type": "stream",
     "text": [
      "<class 'pandas.core.frame.DataFrame'>\n",
      "RangeIndex: 2354 entries, 0 to 2353\n",
      "Data columns (total 3 columns):\n",
      " #   Column          Non-Null Count  Dtype \n",
      "---  ------          --------------  ----- \n",
      " 0   tweet_id        2354 non-null   object\n",
      " 1   retweet_count   2354 non-null   int64 \n",
      " 2   favorite_count  2354 non-null   int64 \n",
      "dtypes: int64(2), object(1)\n",
      "memory usage: 55.3+ KB\n"
     ]
    }
   ],
   "source": [
    "retweet_favourite_count.info()"
   ]
  },
  {
   "cell_type": "code",
   "execution_count": 19,
   "id": "41842f48",
   "metadata": {},
   "outputs": [
    {
     "data": {
      "text/plain": [
       "(2354, 3)"
      ]
     },
     "execution_count": 19,
     "metadata": {},
     "output_type": "execute_result"
    }
   ],
   "source": [
    "retweet_favourite_count.shape"
   ]
  },
  {
   "cell_type": "code",
   "execution_count": 20,
   "id": "60f559ad",
   "metadata": {},
   "outputs": [
    {
     "data": {
      "text/html": [
       "<div>\n",
       "<style scoped>\n",
       "    .dataframe tbody tr th:only-of-type {\n",
       "        vertical-align: middle;\n",
       "    }\n",
       "\n",
       "    .dataframe tbody tr th {\n",
       "        vertical-align: top;\n",
       "    }\n",
       "\n",
       "    .dataframe thead th {\n",
       "        text-align: right;\n",
       "    }\n",
       "</style>\n",
       "<table border=\"1\" class=\"dataframe\">\n",
       "  <thead>\n",
       "    <tr style=\"text-align: right;\">\n",
       "      <th></th>\n",
       "      <th>retweet_count</th>\n",
       "      <th>favorite_count</th>\n",
       "    </tr>\n",
       "  </thead>\n",
       "  <tbody>\n",
       "    <tr>\n",
       "      <th>count</th>\n",
       "      <td>2354.000000</td>\n",
       "      <td>2354.000000</td>\n",
       "    </tr>\n",
       "    <tr>\n",
       "      <th>mean</th>\n",
       "      <td>3164.797366</td>\n",
       "      <td>8080.968564</td>\n",
       "    </tr>\n",
       "    <tr>\n",
       "      <th>std</th>\n",
       "      <td>5284.770364</td>\n",
       "      <td>11814.771334</td>\n",
       "    </tr>\n",
       "    <tr>\n",
       "      <th>min</th>\n",
       "      <td>0.000000</td>\n",
       "      <td>0.000000</td>\n",
       "    </tr>\n",
       "    <tr>\n",
       "      <th>25%</th>\n",
       "      <td>624.500000</td>\n",
       "      <td>1415.000000</td>\n",
       "    </tr>\n",
       "    <tr>\n",
       "      <th>50%</th>\n",
       "      <td>1473.500000</td>\n",
       "      <td>3603.500000</td>\n",
       "    </tr>\n",
       "    <tr>\n",
       "      <th>75%</th>\n",
       "      <td>3652.000000</td>\n",
       "      <td>10122.250000</td>\n",
       "    </tr>\n",
       "    <tr>\n",
       "      <th>max</th>\n",
       "      <td>79515.000000</td>\n",
       "      <td>132810.000000</td>\n",
       "    </tr>\n",
       "  </tbody>\n",
       "</table>\n",
       "</div>"
      ],
      "text/plain": [
       "       retweet_count  favorite_count\n",
       "count    2354.000000     2354.000000\n",
       "mean     3164.797366     8080.968564\n",
       "std      5284.770364    11814.771334\n",
       "min         0.000000        0.000000\n",
       "25%       624.500000     1415.000000\n",
       "50%      1473.500000     3603.500000\n",
       "75%      3652.000000    10122.250000\n",
       "max     79515.000000   132810.000000"
      ]
     },
     "execution_count": 20,
     "metadata": {},
     "output_type": "execute_result"
    }
   ],
   "source": [
    "retweet_favourite_count.describe()"
   ]
  },
  {
   "cell_type": "markdown",
   "id": "3f720535",
   "metadata": {},
   "source": [
    "#### Observations from retweet_favourite_count\n",
    "- There are 2354 rows and 3 columns.\n",
    "- All variables are in the correct data type.\n",
    "- No negative or unusual values in retweets and favourites."
   ]
  },
  {
   "cell_type": "markdown",
   "id": "32c286e5",
   "metadata": {},
   "source": [
    "### Summary of Visual and Programmatic assessments\n",
    "\n",
    "#### Quality\n",
    "1. 0000 at the end of timestamp is not necessary.\n",
    "2. Incorrect data type issues - tweet_id should be object not integers or floats because they are not numeric and aren't intended to perform calculations,  rating_denominator and rating_numerator should be floats not integers since there is nothing stopping future dog ratings from having a number with a decimal either in the denominator or numerator, tweet_id column in image prediction should be an object (string) not integers or floats because they are not numeric and will not be used for performing calculations, timestamp field should be a datetime not object.\n",
    "3. Too many Missing values in columns in_reply_to_status_id, in_reply_to_user_id.\n",
    "4. Redundant retweet rows. Remove values in the retweeted_status_id, retweeted_status_user_id, and retweeted_status_timestamp columns \n",
    "5. Some rating_numerators were extracted incorrectly\n",
    "6. Too many duplicate values in column: source\n",
    "7. Many missing names from the 'name' column:'None', and random names like'a', 'an'\n",
    "8. jpg_url column is making the dataset not look neat - unnecessary for analysis \n",
    "\n",
    "#### Tidyness\n",
    "1. Each column for the dog stage in the twitter archive should be merged into one column as 'dog_stage'\n",
    "2. Data does not need to be split over three datasets - the other two datasets should be joined to 'twitter_archive'"
   ]
  },
  {
   "cell_type": "markdown",
   "id": "516e9a48",
   "metadata": {},
   "source": [
    "# Cleaning Data"
   ]
  },
  {
   "cell_type": "markdown",
   "id": "2726ec96",
   "metadata": {},
   "source": [
    "> Create copies of all 3 datasets before carrying out any cleaning operations "
   ]
  },
  {
   "cell_type": "code",
   "execution_count": 21,
   "id": "4535dfaa",
   "metadata": {},
   "outputs": [],
   "source": [
    "twitter_archive_clean = twitter_archive.copy()\n",
    "image_pred_clean = image_pred.copy()\n",
    "retweet_favourite_count_clean = retweet_favourite_count.copy()"
   ]
  },
  {
   "cell_type": "markdown",
   "id": "655741d8",
   "metadata": {},
   "source": [
    "> Now, I will address the quality issues listed above one after the other"
   ]
  },
  {
   "cell_type": "markdown",
   "id": "b37e9ead",
   "metadata": {},
   "source": [
    "  ## Data Quality Issues "
   ]
  },
  {
   "cell_type": "markdown",
   "id": "4d15536d",
   "metadata": {},
   "source": [
    "1. **+0000 at the end of timestamp is not necessary**\n",
    "\n",
    "> Remove +0000 from the timestamp"
   ]
  },
  {
   "cell_type": "markdown",
   "id": "d13d70ff",
   "metadata": {},
   "source": [
    "##### Code"
   ]
  },
  {
   "cell_type": "code",
   "execution_count": 22,
   "id": "613a9c03",
   "metadata": {},
   "outputs": [],
   "source": [
    "twitter_archive_clean.timestamp = twitter_archive_clean.timestamp.str[:-5].str.strip()"
   ]
  },
  {
   "cell_type": "markdown",
   "id": "b0f951ee",
   "metadata": {},
   "source": [
    "##### Test"
   ]
  },
  {
   "cell_type": "code",
   "execution_count": 23,
   "id": "fbbb2eaa",
   "metadata": {},
   "outputs": [
    {
     "data": {
      "text/plain": [
       "1161    2016-04-23 16:34:28\n",
       "110     2017-06-03 20:33:19\n",
       "1930    2015-12-08 01:30:12\n",
       "2279    2015-11-19 18:13:27\n",
       "Name: timestamp, dtype: object"
      ]
     },
     "execution_count": 23,
     "metadata": {},
     "output_type": "execute_result"
    }
   ],
   "source": [
    "twitter_archive_clean.timestamp.sample(4)"
   ]
  },
  {
   "cell_type": "markdown",
   "id": "df92d7c9",
   "metadata": {},
   "source": [
    "2. **Incorrect data type issues -** \n",
    " - tweet_id should be object not integers or floats because they are not numeric and aren't intended to perform calculations.\n",
    " - rating_denominator and rating_numerator should be floats not integers since there is nothing stopping future dog ratings from having a number with a decimal either in the denominator or numerator.\n",
    " - tweet_id column in image prediction should be an object (string) not integers or floats because they are not numeric and will not be used for performing calculations.\n",
    " - timestamp field should be a datetime not object.\n",
    "\n",
    "> The above mentioned columns wil be changed to the appropraite data formats "
   ]
  },
  {
   "cell_type": "markdown",
   "id": "9fcb6360",
   "metadata": {},
   "source": [
    "##### Code"
   ]
  },
  {
   "cell_type": "code",
   "execution_count": 24,
   "id": "6ec16fba",
   "metadata": {},
   "outputs": [],
   "source": [
    "# Change tweet_id in twitter archive to str \n",
    "\n",
    "twitter_archive_clean['tweet_id'] = twitter_archive_clean['tweet_id'].astype('str')"
   ]
  },
  {
   "cell_type": "code",
   "execution_count": 25,
   "id": "48ca5b51",
   "metadata": {},
   "outputs": [],
   "source": [
    "# Change rating_denominator and rating_numerator to floats \n",
    "\n",
    "twitter_archive_clean[['rating_denominator', 'rating_numerator']] = twitter_archive_clean[['rating_denominator', 'rating_numerator']].astype(float)"
   ]
  },
  {
   "cell_type": "code",
   "execution_count": 26,
   "id": "3c645c56",
   "metadata": {},
   "outputs": [],
   "source": [
    "# Change timestamp to datetime format \n",
    "\n",
    "twitter_archive_clean['timestamp'] = pd.to_datetime(twitter_archive_clean['timestamp'])"
   ]
  },
  {
   "cell_type": "code",
   "execution_count": 27,
   "id": "f6b143d6",
   "metadata": {},
   "outputs": [],
   "source": [
    "# change tweet_id in image prediction to str \n",
    "\n",
    "image_pred_clean['tweet_id'] = image_pred_clean['tweet_id'].astype('str')"
   ]
  },
  {
   "cell_type": "markdown",
   "id": "168a5702",
   "metadata": {},
   "source": [
    "##### Test"
   ]
  },
  {
   "cell_type": "code",
   "execution_count": 28,
   "id": "db4bd63d",
   "metadata": {},
   "outputs": [
    {
     "name": "stdout",
     "output_type": "stream",
     "text": [
      "<class 'pandas.core.frame.DataFrame'>\n",
      "RangeIndex: 2356 entries, 0 to 2355\n",
      "Data columns (total 17 columns):\n",
      " #   Column                      Non-Null Count  Dtype         \n",
      "---  ------                      --------------  -----         \n",
      " 0   tweet_id                    2356 non-null   object        \n",
      " 1   in_reply_to_status_id       78 non-null     float64       \n",
      " 2   in_reply_to_user_id         78 non-null     float64       \n",
      " 3   timestamp                   2356 non-null   datetime64[ns]\n",
      " 4   source                      2356 non-null   object        \n",
      " 5   text                        2356 non-null   object        \n",
      " 6   retweeted_status_id         181 non-null    float64       \n",
      " 7   retweeted_status_user_id    181 non-null    float64       \n",
      " 8   retweeted_status_timestamp  181 non-null    object        \n",
      " 9   expanded_urls               2297 non-null   object        \n",
      " 10  rating_numerator            2356 non-null   float64       \n",
      " 11  rating_denominator          2356 non-null   float64       \n",
      " 12  name                        2356 non-null   object        \n",
      " 13  doggo                       2356 non-null   object        \n",
      " 14  floofer                     2356 non-null   object        \n",
      " 15  pupper                      2356 non-null   object        \n",
      " 16  puppo                       2356 non-null   object        \n",
      "dtypes: datetime64[ns](1), float64(6), object(10)\n",
      "memory usage: 313.0+ KB\n"
     ]
    }
   ],
   "source": [
    "twitter_archive_clean.info()"
   ]
  },
  {
   "cell_type": "code",
   "execution_count": 29,
   "id": "cb2cde9c",
   "metadata": {},
   "outputs": [
    {
     "name": "stdout",
     "output_type": "stream",
     "text": [
      "<class 'pandas.core.frame.DataFrame'>\n",
      "RangeIndex: 2075 entries, 0 to 2074\n",
      "Data columns (total 12 columns):\n",
      " #   Column    Non-Null Count  Dtype  \n",
      "---  ------    --------------  -----  \n",
      " 0   tweet_id  2075 non-null   object \n",
      " 1   jpg_url   2075 non-null   object \n",
      " 2   img_num   2075 non-null   int64  \n",
      " 3   p1        2075 non-null   object \n",
      " 4   p1_conf   2075 non-null   float64\n",
      " 5   p1_dog    2075 non-null   bool   \n",
      " 6   p2        2075 non-null   object \n",
      " 7   p2_conf   2075 non-null   float64\n",
      " 8   p2_dog    2075 non-null   bool   \n",
      " 9   p3        2075 non-null   object \n",
      " 10  p3_conf   2075 non-null   float64\n",
      " 11  p3_dog    2075 non-null   bool   \n",
      "dtypes: bool(3), float64(3), int64(1), object(5)\n",
      "memory usage: 152.1+ KB\n"
     ]
    }
   ],
   "source": [
    "image_pred_clean.info()"
   ]
  },
  {
   "cell_type": "markdown",
   "id": "5e70f7a0",
   "metadata": {},
   "source": [
    "3. **Redundant in_reply_to_status_id, in_reply_to_user_id and expanded_urls columns.**\n",
    "\n",
    "> I will drop these two columns because they are not needed for any analysis "
   ]
  },
  {
   "cell_type": "markdown",
   "id": "f39792f0",
   "metadata": {},
   "source": [
    "##### Code"
   ]
  },
  {
   "cell_type": "code",
   "execution_count": 30,
   "id": "092818e1",
   "metadata": {},
   "outputs": [],
   "source": [
    "twitter_archive_clean.drop(['in_reply_to_status_id', 'in_reply_to_user_id', 'expanded_urls'], axis =1, inplace=True)"
   ]
  },
  {
   "cell_type": "code",
   "execution_count": 31,
   "id": "e1e7ea09",
   "metadata": {},
   "outputs": [],
   "source": [
    "# Reset index after deleting columns\n",
    "\n",
    "twitter_archive_clean.reset_index(drop = True, inplace = True)"
   ]
  },
  {
   "cell_type": "markdown",
   "id": "0e554ec2",
   "metadata": {},
   "source": [
    "##### Test"
   ]
  },
  {
   "cell_type": "code",
   "execution_count": 32,
   "id": "56e7ad5b",
   "metadata": {},
   "outputs": [
    {
     "data": {
      "text/html": [
       "<div>\n",
       "<style scoped>\n",
       "    .dataframe tbody tr th:only-of-type {\n",
       "        vertical-align: middle;\n",
       "    }\n",
       "\n",
       "    .dataframe tbody tr th {\n",
       "        vertical-align: top;\n",
       "    }\n",
       "\n",
       "    .dataframe thead th {\n",
       "        text-align: right;\n",
       "    }\n",
       "</style>\n",
       "<table border=\"1\" class=\"dataframe\">\n",
       "  <thead>\n",
       "    <tr style=\"text-align: right;\">\n",
       "      <th></th>\n",
       "      <th>tweet_id</th>\n",
       "      <th>timestamp</th>\n",
       "      <th>source</th>\n",
       "      <th>text</th>\n",
       "      <th>retweeted_status_id</th>\n",
       "      <th>retweeted_status_user_id</th>\n",
       "      <th>retweeted_status_timestamp</th>\n",
       "      <th>rating_numerator</th>\n",
       "      <th>rating_denominator</th>\n",
       "      <th>name</th>\n",
       "      <th>doggo</th>\n",
       "      <th>floofer</th>\n",
       "      <th>pupper</th>\n",
       "      <th>puppo</th>\n",
       "    </tr>\n",
       "  </thead>\n",
       "  <tbody>\n",
       "    <tr>\n",
       "      <th>0</th>\n",
       "      <td>892420643555336193</td>\n",
       "      <td>2017-08-01 16:23:56</td>\n",
       "      <td>&lt;a href=\"http://twitter.com/download/iphone\" r...</td>\n",
       "      <td>This is Phineas. He's a mystical boy. Only eve...</td>\n",
       "      <td>NaN</td>\n",
       "      <td>NaN</td>\n",
       "      <td>NaN</td>\n",
       "      <td>13.0</td>\n",
       "      <td>10.0</td>\n",
       "      <td>Phineas</td>\n",
       "      <td>None</td>\n",
       "      <td>None</td>\n",
       "      <td>None</td>\n",
       "      <td>None</td>\n",
       "    </tr>\n",
       "    <tr>\n",
       "      <th>1</th>\n",
       "      <td>892177421306343426</td>\n",
       "      <td>2017-08-01 00:17:27</td>\n",
       "      <td>&lt;a href=\"http://twitter.com/download/iphone\" r...</td>\n",
       "      <td>This is Tilly. She's just checking pup on you....</td>\n",
       "      <td>NaN</td>\n",
       "      <td>NaN</td>\n",
       "      <td>NaN</td>\n",
       "      <td>13.0</td>\n",
       "      <td>10.0</td>\n",
       "      <td>Tilly</td>\n",
       "      <td>None</td>\n",
       "      <td>None</td>\n",
       "      <td>None</td>\n",
       "      <td>None</td>\n",
       "    </tr>\n",
       "    <tr>\n",
       "      <th>2</th>\n",
       "      <td>891815181378084864</td>\n",
       "      <td>2017-07-31 00:18:03</td>\n",
       "      <td>&lt;a href=\"http://twitter.com/download/iphone\" r...</td>\n",
       "      <td>This is Archie. He is a rare Norwegian Pouncin...</td>\n",
       "      <td>NaN</td>\n",
       "      <td>NaN</td>\n",
       "      <td>NaN</td>\n",
       "      <td>12.0</td>\n",
       "      <td>10.0</td>\n",
       "      <td>Archie</td>\n",
       "      <td>None</td>\n",
       "      <td>None</td>\n",
       "      <td>None</td>\n",
       "      <td>None</td>\n",
       "    </tr>\n",
       "    <tr>\n",
       "      <th>3</th>\n",
       "      <td>891689557279858688</td>\n",
       "      <td>2017-07-30 15:58:51</td>\n",
       "      <td>&lt;a href=\"http://twitter.com/download/iphone\" r...</td>\n",
       "      <td>This is Darla. She commenced a snooze mid meal...</td>\n",
       "      <td>NaN</td>\n",
       "      <td>NaN</td>\n",
       "      <td>NaN</td>\n",
       "      <td>13.0</td>\n",
       "      <td>10.0</td>\n",
       "      <td>Darla</td>\n",
       "      <td>None</td>\n",
       "      <td>None</td>\n",
       "      <td>None</td>\n",
       "      <td>None</td>\n",
       "    </tr>\n",
       "    <tr>\n",
       "      <th>4</th>\n",
       "      <td>891327558926688256</td>\n",
       "      <td>2017-07-29 16:00:24</td>\n",
       "      <td>&lt;a href=\"http://twitter.com/download/iphone\" r...</td>\n",
       "      <td>This is Franklin. He would like you to stop ca...</td>\n",
       "      <td>NaN</td>\n",
       "      <td>NaN</td>\n",
       "      <td>NaN</td>\n",
       "      <td>12.0</td>\n",
       "      <td>10.0</td>\n",
       "      <td>Franklin</td>\n",
       "      <td>None</td>\n",
       "      <td>None</td>\n",
       "      <td>None</td>\n",
       "      <td>None</td>\n",
       "    </tr>\n",
       "    <tr>\n",
       "      <th>...</th>\n",
       "      <td>...</td>\n",
       "      <td>...</td>\n",
       "      <td>...</td>\n",
       "      <td>...</td>\n",
       "      <td>...</td>\n",
       "      <td>...</td>\n",
       "      <td>...</td>\n",
       "      <td>...</td>\n",
       "      <td>...</td>\n",
       "      <td>...</td>\n",
       "      <td>...</td>\n",
       "      <td>...</td>\n",
       "      <td>...</td>\n",
       "      <td>...</td>\n",
       "    </tr>\n",
       "    <tr>\n",
       "      <th>2351</th>\n",
       "      <td>666049248165822465</td>\n",
       "      <td>2015-11-16 00:24:50</td>\n",
       "      <td>&lt;a href=\"http://twitter.com/download/iphone\" r...</td>\n",
       "      <td>Here we have a 1949 1st generation vulpix. Enj...</td>\n",
       "      <td>NaN</td>\n",
       "      <td>NaN</td>\n",
       "      <td>NaN</td>\n",
       "      <td>5.0</td>\n",
       "      <td>10.0</td>\n",
       "      <td>None</td>\n",
       "      <td>None</td>\n",
       "      <td>None</td>\n",
       "      <td>None</td>\n",
       "      <td>None</td>\n",
       "    </tr>\n",
       "    <tr>\n",
       "      <th>2352</th>\n",
       "      <td>666044226329800704</td>\n",
       "      <td>2015-11-16 00:04:52</td>\n",
       "      <td>&lt;a href=\"http://twitter.com/download/iphone\" r...</td>\n",
       "      <td>This is a purebred Piers Morgan. Loves to Netf...</td>\n",
       "      <td>NaN</td>\n",
       "      <td>NaN</td>\n",
       "      <td>NaN</td>\n",
       "      <td>6.0</td>\n",
       "      <td>10.0</td>\n",
       "      <td>a</td>\n",
       "      <td>None</td>\n",
       "      <td>None</td>\n",
       "      <td>None</td>\n",
       "      <td>None</td>\n",
       "    </tr>\n",
       "    <tr>\n",
       "      <th>2353</th>\n",
       "      <td>666033412701032449</td>\n",
       "      <td>2015-11-15 23:21:54</td>\n",
       "      <td>&lt;a href=\"http://twitter.com/download/iphone\" r...</td>\n",
       "      <td>Here is a very happy pup. Big fan of well-main...</td>\n",
       "      <td>NaN</td>\n",
       "      <td>NaN</td>\n",
       "      <td>NaN</td>\n",
       "      <td>9.0</td>\n",
       "      <td>10.0</td>\n",
       "      <td>a</td>\n",
       "      <td>None</td>\n",
       "      <td>None</td>\n",
       "      <td>None</td>\n",
       "      <td>None</td>\n",
       "    </tr>\n",
       "    <tr>\n",
       "      <th>2354</th>\n",
       "      <td>666029285002620928</td>\n",
       "      <td>2015-11-15 23:05:30</td>\n",
       "      <td>&lt;a href=\"http://twitter.com/download/iphone\" r...</td>\n",
       "      <td>This is a western brown Mitsubishi terrier. Up...</td>\n",
       "      <td>NaN</td>\n",
       "      <td>NaN</td>\n",
       "      <td>NaN</td>\n",
       "      <td>7.0</td>\n",
       "      <td>10.0</td>\n",
       "      <td>a</td>\n",
       "      <td>None</td>\n",
       "      <td>None</td>\n",
       "      <td>None</td>\n",
       "      <td>None</td>\n",
       "    </tr>\n",
       "    <tr>\n",
       "      <th>2355</th>\n",
       "      <td>666020888022790149</td>\n",
       "      <td>2015-11-15 22:32:08</td>\n",
       "      <td>&lt;a href=\"http://twitter.com/download/iphone\" r...</td>\n",
       "      <td>Here we have a Japanese Irish Setter. Lost eye...</td>\n",
       "      <td>NaN</td>\n",
       "      <td>NaN</td>\n",
       "      <td>NaN</td>\n",
       "      <td>8.0</td>\n",
       "      <td>10.0</td>\n",
       "      <td>None</td>\n",
       "      <td>None</td>\n",
       "      <td>None</td>\n",
       "      <td>None</td>\n",
       "      <td>None</td>\n",
       "    </tr>\n",
       "  </tbody>\n",
       "</table>\n",
       "<p>2356 rows × 14 columns</p>\n",
       "</div>"
      ],
      "text/plain": [
       "                tweet_id           timestamp  \\\n",
       "0     892420643555336193 2017-08-01 16:23:56   \n",
       "1     892177421306343426 2017-08-01 00:17:27   \n",
       "2     891815181378084864 2017-07-31 00:18:03   \n",
       "3     891689557279858688 2017-07-30 15:58:51   \n",
       "4     891327558926688256 2017-07-29 16:00:24   \n",
       "...                  ...                 ...   \n",
       "2351  666049248165822465 2015-11-16 00:24:50   \n",
       "2352  666044226329800704 2015-11-16 00:04:52   \n",
       "2353  666033412701032449 2015-11-15 23:21:54   \n",
       "2354  666029285002620928 2015-11-15 23:05:30   \n",
       "2355  666020888022790149 2015-11-15 22:32:08   \n",
       "\n",
       "                                                 source  \\\n",
       "0     <a href=\"http://twitter.com/download/iphone\" r...   \n",
       "1     <a href=\"http://twitter.com/download/iphone\" r...   \n",
       "2     <a href=\"http://twitter.com/download/iphone\" r...   \n",
       "3     <a href=\"http://twitter.com/download/iphone\" r...   \n",
       "4     <a href=\"http://twitter.com/download/iphone\" r...   \n",
       "...                                                 ...   \n",
       "2351  <a href=\"http://twitter.com/download/iphone\" r...   \n",
       "2352  <a href=\"http://twitter.com/download/iphone\" r...   \n",
       "2353  <a href=\"http://twitter.com/download/iphone\" r...   \n",
       "2354  <a href=\"http://twitter.com/download/iphone\" r...   \n",
       "2355  <a href=\"http://twitter.com/download/iphone\" r...   \n",
       "\n",
       "                                                   text  retweeted_status_id  \\\n",
       "0     This is Phineas. He's a mystical boy. Only eve...                  NaN   \n",
       "1     This is Tilly. She's just checking pup on you....                  NaN   \n",
       "2     This is Archie. He is a rare Norwegian Pouncin...                  NaN   \n",
       "3     This is Darla. She commenced a snooze mid meal...                  NaN   \n",
       "4     This is Franklin. He would like you to stop ca...                  NaN   \n",
       "...                                                 ...                  ...   \n",
       "2351  Here we have a 1949 1st generation vulpix. Enj...                  NaN   \n",
       "2352  This is a purebred Piers Morgan. Loves to Netf...                  NaN   \n",
       "2353  Here is a very happy pup. Big fan of well-main...                  NaN   \n",
       "2354  This is a western brown Mitsubishi terrier. Up...                  NaN   \n",
       "2355  Here we have a Japanese Irish Setter. Lost eye...                  NaN   \n",
       "\n",
       "      retweeted_status_user_id retweeted_status_timestamp  rating_numerator  \\\n",
       "0                          NaN                        NaN              13.0   \n",
       "1                          NaN                        NaN              13.0   \n",
       "2                          NaN                        NaN              12.0   \n",
       "3                          NaN                        NaN              13.0   \n",
       "4                          NaN                        NaN              12.0   \n",
       "...                        ...                        ...               ...   \n",
       "2351                       NaN                        NaN               5.0   \n",
       "2352                       NaN                        NaN               6.0   \n",
       "2353                       NaN                        NaN               9.0   \n",
       "2354                       NaN                        NaN               7.0   \n",
       "2355                       NaN                        NaN               8.0   \n",
       "\n",
       "      rating_denominator      name doggo floofer pupper puppo  \n",
       "0                   10.0   Phineas  None    None   None  None  \n",
       "1                   10.0     Tilly  None    None   None  None  \n",
       "2                   10.0    Archie  None    None   None  None  \n",
       "3                   10.0     Darla  None    None   None  None  \n",
       "4                   10.0  Franklin  None    None   None  None  \n",
       "...                  ...       ...   ...     ...    ...   ...  \n",
       "2351                10.0      None  None    None   None  None  \n",
       "2352                10.0         a  None    None   None  None  \n",
       "2353                10.0         a  None    None   None  None  \n",
       "2354                10.0         a  None    None   None  None  \n",
       "2355                10.0      None  None    None   None  None  \n",
       "\n",
       "[2356 rows x 14 columns]"
      ]
     },
     "execution_count": 32,
     "metadata": {},
     "output_type": "execute_result"
    }
   ],
   "source": [
    "twitter_archive_clean"
   ]
  },
  {
   "cell_type": "markdown",
   "id": "edb1d15e",
   "metadata": {},
   "source": [
    "4.  **Redundant retweet rows. Remove values in the retweeted_status_id, retweeted_status_user_id, and retweeted_status_timestamp columns.**\n",
    "\n",
    "> Remove all values in retweeted_status_id, retweeted_status_user_id, and retweeted_status_timestamp and drop the columns afterwards. "
   ]
  },
  {
   "cell_type": "markdown",
   "id": "b038941c",
   "metadata": {},
   "source": [
    "##### Code"
   ]
  },
  {
   "cell_type": "code",
   "execution_count": 33,
   "id": "4dac4b2a",
   "metadata": {},
   "outputs": [],
   "source": [
    "# Delete all the retweets in the columns \n",
    "\n",
    "twitter_archive_clean = twitter_archive_clean[twitter_archive_clean.retweeted_status_id.isnull()]\n",
    "twitter_archive_clean = twitter_archive_clean[twitter_archive_clean.retweeted_status_user_id.isnull()]\n",
    "twitter_archive_clean = twitter_archive_clean[twitter_archive_clean.retweeted_status_timestamp.isnull()]"
   ]
  },
  {
   "cell_type": "markdown",
   "id": "adfee3ba",
   "metadata": {},
   "source": [
    "##### Test"
   ]
  },
  {
   "cell_type": "code",
   "execution_count": 34,
   "id": "e8b55bd0",
   "metadata": {},
   "outputs": [
    {
     "name": "stdout",
     "output_type": "stream",
     "text": [
      "<class 'pandas.core.frame.DataFrame'>\n",
      "Int64Index: 2175 entries, 0 to 2355\n",
      "Data columns (total 14 columns):\n",
      " #   Column                      Non-Null Count  Dtype         \n",
      "---  ------                      --------------  -----         \n",
      " 0   tweet_id                    2175 non-null   object        \n",
      " 1   timestamp                   2175 non-null   datetime64[ns]\n",
      " 2   source                      2175 non-null   object        \n",
      " 3   text                        2175 non-null   object        \n",
      " 4   retweeted_status_id         0 non-null      float64       \n",
      " 5   retweeted_status_user_id    0 non-null      float64       \n",
      " 6   retweeted_status_timestamp  0 non-null      object        \n",
      " 7   rating_numerator            2175 non-null   float64       \n",
      " 8   rating_denominator          2175 non-null   float64       \n",
      " 9   name                        2175 non-null   object        \n",
      " 10  doggo                       2175 non-null   object        \n",
      " 11  floofer                     2175 non-null   object        \n",
      " 12  pupper                      2175 non-null   object        \n",
      " 13  puppo                       2175 non-null   object        \n",
      "dtypes: datetime64[ns](1), float64(4), object(9)\n",
      "memory usage: 254.9+ KB\n"
     ]
    }
   ],
   "source": [
    "twitter_archive_clean.info()"
   ]
  },
  {
   "cell_type": "markdown",
   "id": "e02e2d4e",
   "metadata": {},
   "source": [
    " > These columns can now be deleted after removing all the retweets"
   ]
  },
  {
   "cell_type": "markdown",
   "id": "609f9f04",
   "metadata": {},
   "source": [
    "##### Code"
   ]
  },
  {
   "cell_type": "code",
   "execution_count": 35,
   "id": "2f209278",
   "metadata": {},
   "outputs": [],
   "source": [
    " twitter_archive_clean.drop(['retweeted_status_id', 'retweeted_status_user_id', 'retweeted_status_timestamp'], axis =1, inplace=True)"
   ]
  },
  {
   "cell_type": "code",
   "execution_count": 36,
   "id": "1d1cc67b",
   "metadata": {},
   "outputs": [],
   "source": [
    "# Reset index after deleting columns\n",
    "\n",
    "twitter_archive_clean.reset_index(drop = True, inplace = True)"
   ]
  },
  {
   "cell_type": "markdown",
   "id": "b200b835",
   "metadata": {},
   "source": [
    "##### Test"
   ]
  },
  {
   "cell_type": "code",
   "execution_count": 37,
   "id": "d20799eb",
   "metadata": {},
   "outputs": [
    {
     "name": "stdout",
     "output_type": "stream",
     "text": [
      "<class 'pandas.core.frame.DataFrame'>\n",
      "RangeIndex: 2175 entries, 0 to 2174\n",
      "Data columns (total 11 columns):\n",
      " #   Column              Non-Null Count  Dtype         \n",
      "---  ------              --------------  -----         \n",
      " 0   tweet_id            2175 non-null   object        \n",
      " 1   timestamp           2175 non-null   datetime64[ns]\n",
      " 2   source              2175 non-null   object        \n",
      " 3   text                2175 non-null   object        \n",
      " 4   rating_numerator    2175 non-null   float64       \n",
      " 5   rating_denominator  2175 non-null   float64       \n",
      " 6   name                2175 non-null   object        \n",
      " 7   doggo               2175 non-null   object        \n",
      " 8   floofer             2175 non-null   object        \n",
      " 9   pupper              2175 non-null   object        \n",
      " 10  puppo               2175 non-null   object        \n",
      "dtypes: datetime64[ns](1), float64(2), object(8)\n",
      "memory usage: 187.0+ KB\n"
     ]
    }
   ],
   "source": [
    "twitter_archive_clean.info()"
   ]
  },
  {
   "cell_type": "markdown",
   "id": "8b9830a3",
   "metadata": {},
   "source": [
    "5. **Some rating_numerators were incorrectly extracted. The whole numbers were not correctly extracted.**\n",
    "\n",
    "> I will extract those ratings correctly "
   ]
  },
  {
   "cell_type": "markdown",
   "id": "089afc51",
   "metadata": {},
   "source": [
    "#### Code "
   ]
  },
  {
   "cell_type": "code",
   "execution_count": 38,
   "id": "cf7508e9",
   "metadata": {},
   "outputs": [],
   "source": [
    "# Use regex to extract the rating numerators again.\n",
    "\n",
    "twitter_archive_clean['rating_numerator'] = twitter_archive_clean['text'].str.extract('(\\d+\\.*\\d*\\/\\d+)', expand=False).str.split('/').str[0]"
   ]
  },
  {
   "cell_type": "code",
   "execution_count": 39,
   "id": "59fd1583",
   "metadata": {},
   "outputs": [],
   "source": [
    "# Change rating numerator back to float \n",
    "\n",
    "twitter_archive_clean['rating_numerator'] = twitter_archive_clean['rating_numerator'].astype(float)"
   ]
  },
  {
   "cell_type": "markdown",
   "id": "99e9e8df",
   "metadata": {},
   "source": [
    "##### Test"
   ]
  },
  {
   "cell_type": "code",
   "execution_count": 40,
   "id": "c1561c11",
   "metadata": {},
   "outputs": [
    {
     "name": "stderr",
     "output_type": "stream",
     "text": [
      "C:\\Users\\TRANSSNET\\AppData\\Local\\Temp\\ipykernel_30348\\1526494966.py:3: UserWarning: This pattern is interpreted as a regular expression, and has match groups. To actually get the groups, use str.extract.\n",
      "  twitter_archive_clean[twitter_archive_clean.text.str.contains(r\"(\\d+\\.\\d*\\/\\d+)\")][['text', 'rating_numerator']]\n"
     ]
    },
    {
     "data": {
      "text/html": [
       "<div>\n",
       "<style scoped>\n",
       "    .dataframe tbody tr th:only-of-type {\n",
       "        vertical-align: middle;\n",
       "    }\n",
       "\n",
       "    .dataframe tbody tr th {\n",
       "        vertical-align: top;\n",
       "    }\n",
       "\n",
       "    .dataframe thead th {\n",
       "        text-align: right;\n",
       "    }\n",
       "</style>\n",
       "<table border=\"1\" class=\"dataframe\">\n",
       "  <thead>\n",
       "    <tr style=\"text-align: right;\">\n",
       "      <th></th>\n",
       "      <th>text</th>\n",
       "      <th>rating_numerator</th>\n",
       "    </tr>\n",
       "  </thead>\n",
       "  <tbody>\n",
       "    <tr>\n",
       "      <th>42</th>\n",
       "      <td>This is Bella. She hopes her smile made you sm...</td>\n",
       "      <td>13.50</td>\n",
       "    </tr>\n",
       "    <tr>\n",
       "      <th>558</th>\n",
       "      <td>This is Logan, the Chow who lived. He solemnly...</td>\n",
       "      <td>9.75</td>\n",
       "    </tr>\n",
       "    <tr>\n",
       "      <th>617</th>\n",
       "      <td>This is Sophie. She's a Jubilant Bush Pupper. ...</td>\n",
       "      <td>11.27</td>\n",
       "    </tr>\n",
       "    <tr>\n",
       "      <th>1510</th>\n",
       "      <td>I've been told there's a slight possibility he...</td>\n",
       "      <td>9.50</td>\n",
       "    </tr>\n",
       "    <tr>\n",
       "      <th>1533</th>\n",
       "      <td>Here we have uncovered an entire battalion of ...</td>\n",
       "      <td>11.26</td>\n",
       "    </tr>\n",
       "  </tbody>\n",
       "</table>\n",
       "</div>"
      ],
      "text/plain": [
       "                                                   text  rating_numerator\n",
       "42    This is Bella. She hopes her smile made you sm...             13.50\n",
       "558   This is Logan, the Chow who lived. He solemnly...              9.75\n",
       "617   This is Sophie. She's a Jubilant Bush Pupper. ...             11.27\n",
       "1510  I've been told there's a slight possibility he...              9.50\n",
       "1533  Here we have uncovered an entire battalion of ...             11.26"
      ]
     },
     "execution_count": 40,
     "metadata": {},
     "output_type": "execute_result"
    }
   ],
   "source": [
    "# Check affected columns to see if change has been effected \n",
    "\n",
    "twitter_archive_clean[twitter_archive_clean.text.str.contains(r\"(\\d+\\.\\d*\\/\\d+)\")][['text', 'rating_numerator']]"
   ]
  },
  {
   "cell_type": "code",
   "execution_count": 41,
   "id": "5a37c514",
   "metadata": {},
   "outputs": [
    {
     "name": "stdout",
     "output_type": "stream",
     "text": [
      "Ratings have been extracted correctly\n"
     ]
    }
   ],
   "source": [
    "print('Ratings have been extracted correctly')"
   ]
  },
  {
   "cell_type": "markdown",
   "id": "2850f0b2",
   "metadata": {},
   "source": [
    "6. **Too many duplicate values in column: source**\n",
    " \n",
    "> Source column will be dropped because we don't need it for analysis "
   ]
  },
  {
   "cell_type": "markdown",
   "id": "7680551f",
   "metadata": {},
   "source": [
    "#### Code "
   ]
  },
  {
   "cell_type": "code",
   "execution_count": 42,
   "id": "e9f648b5",
   "metadata": {},
   "outputs": [],
   "source": [
    "twitter_archive_clean.drop(columns='source', inplace=True)"
   ]
  },
  {
   "cell_type": "markdown",
   "id": "2141ef26",
   "metadata": {},
   "source": [
    "#### Test"
   ]
  },
  {
   "cell_type": "code",
   "execution_count": 43,
   "id": "03e1356b",
   "metadata": {},
   "outputs": [
    {
     "name": "stdout",
     "output_type": "stream",
     "text": [
      "Source column has been deleted\n"
     ]
    }
   ],
   "source": [
    "if 'source' not in twitter_archive_clean.columns:\n",
    "    print(\"Source column has been deleted\")\n",
    "else:\n",
    "    print(\"Source column present\")"
   ]
  },
  {
   "cell_type": "markdown",
   "id": "9452f5f2",
   "metadata": {},
   "source": [
    "7. **Many missing names from the 'name' column:'None', and random names like 'a'**\n",
    "\n",
    "> remove any names with small letters as they are most likely not correct"
   ]
  },
  {
   "cell_type": "markdown",
   "id": "bc0adc05",
   "metadata": {},
   "source": [
    "##### Code"
   ]
  },
  {
   "cell_type": "code",
   "execution_count": 44,
   "id": "170334e4",
   "metadata": {},
   "outputs": [],
   "source": [
    "# list all of names that are not capitalized. \n",
    "lower_dog_name_index = twitter_archive_clean[twitter_archive_clean.name.str.islower()].index"
   ]
  },
  {
   "cell_type": "markdown",
   "id": "e154372c",
   "metadata": {},
   "source": [
    "> This list contains non-capitalized words from the name column, none of which are valid names."
   ]
  },
  {
   "cell_type": "code",
   "execution_count": 45,
   "id": "8d0d7b5b",
   "metadata": {},
   "outputs": [],
   "source": [
    "# Drop the rows \n",
    "twitter_archive_clean.drop(lower_dog_name_index, inplace=True)"
   ]
  },
  {
   "cell_type": "markdown",
   "id": "f693b9ae",
   "metadata": {},
   "source": [
    "##### Test"
   ]
  },
  {
   "cell_type": "code",
   "execution_count": 46,
   "id": "12484b61",
   "metadata": {},
   "outputs": [
    {
     "data": {
      "text/plain": [
       "0       False\n",
       "1       False\n",
       "2       False\n",
       "3       False\n",
       "4       False\n",
       "        ...  \n",
       "2161    False\n",
       "2162    False\n",
       "2163    False\n",
       "2170    False\n",
       "2174    False\n",
       "Name: name, Length: 2071, dtype: bool"
      ]
     },
     "execution_count": 46,
     "metadata": {},
     "output_type": "execute_result"
    }
   ],
   "source": [
    "twitter_archive_clean.name.str.islower()"
   ]
  },
  {
   "cell_type": "markdown",
   "id": "b519ff46",
   "metadata": {},
   "source": [
    "8. **jpg_url column is making the dataset not look neat - unnecessary for analysis**\n",
    " \n",
    "> This column will be dropped "
   ]
  },
  {
   "cell_type": "markdown",
   "id": "5e798cbb",
   "metadata": {},
   "source": [
    "##### Code"
   ]
  },
  {
   "cell_type": "code",
   "execution_count": 47,
   "id": "00cff749",
   "metadata": {},
   "outputs": [],
   "source": [
    "image_pred_clean.drop(columns='jpg_url', axis=1, inplace=True)"
   ]
  },
  {
   "cell_type": "markdown",
   "id": "3cc1ed44",
   "metadata": {},
   "source": [
    "##### Test"
   ]
  },
  {
   "cell_type": "code",
   "execution_count": 48,
   "id": "75208ac4",
   "metadata": {},
   "outputs": [
    {
     "name": "stdout",
     "output_type": "stream",
     "text": [
      "jpg_url column has been deleted\n"
     ]
    }
   ],
   "source": [
    "if 'jpg_url' not in twitter_archive_clean.columns:\n",
    "    print(\"jpg_url column has been deleted\")\n",
    "else:\n",
    "    print(\"jpg_url column present\")"
   ]
  },
  {
   "cell_type": "markdown",
   "id": "cb061232",
   "metadata": {},
   "source": [
    "## Data Tidiness Issues"
   ]
  },
  {
   "cell_type": "markdown",
   "id": "2250b9b9",
   "metadata": {},
   "source": [
    "1. **Each column for the dog stage in the twitter archive should be merged into one column as 'dog_stage'**\n",
    "\n",
    "> One important data tidiness issue about the dog stages columns. It is best to make the columns into a single column. There are some tweets that contain more than one dog stage so that will be considered as well."
   ]
  },
  {
   "cell_type": "markdown",
   "id": "602bd4e7",
   "metadata": {},
   "source": [
    "##### Code"
   ]
  },
  {
   "cell_type": "code",
   "execution_count": 49,
   "id": "3d62d9f0",
   "metadata": {},
   "outputs": [],
   "source": [
    "# 'None' values \n",
    "twitter_archive_clean.doggo.replace('None', '', inplace=True)\n",
    "twitter_archive_clean.floofer.replace('None', '', inplace=True)\n",
    "twitter_archive_clean.pupper.replace('None', '', inplace=True)\n",
    "twitter_archive_clean.puppo.replace('None', '', inplace=True)"
   ]
  },
  {
   "cell_type": "code",
   "execution_count": 50,
   "id": "48c4eed8",
   "metadata": {},
   "outputs": [],
   "source": [
    "# merge\n",
    "twitter_archive_clean['dog_stage'] = twitter_archive_clean.doggo + twitter_archive_clean.floofer + twitter_archive_clean.pupper + twitter_archive_clean.puppo"
   ]
  },
  {
   "cell_type": "code",
   "execution_count": 51,
   "id": "53ea33e2",
   "metadata": {},
   "outputs": [],
   "source": [
    "# Multiple Stages \n",
    "twitter_archive_clean.loc[twitter_archive_clean.dog_stage == 'doggopupper', 'dog_stage'] = 'doggo, pupper'\n",
    "twitter_archive_clean.loc[twitter_archive_clean.dog_stage == 'doggopuppo', 'dog_stage'] = 'doggo, puppo'\n",
    "twitter_archive_clean.loc[twitter_archive_clean.dog_stage == 'doggofloofer', 'dog_stage'] = 'doggo, floofer'"
   ]
  },
  {
   "cell_type": "code",
   "execution_count": 52,
   "id": "0d08f664",
   "metadata": {},
   "outputs": [],
   "source": [
    "# Missing values \n",
    "twitter_archive_clean.loc[twitter_archive_clean.dog_stage == '', 'dog_stage'] = np.nan"
   ]
  },
  {
   "cell_type": "code",
   "execution_count": 53,
   "id": "f3ecf3e6",
   "metadata": {},
   "outputs": [],
   "source": [
    "# Drop the doggo, floofer, pupper and puppo columns \n",
    "twitter_archive_clean.drop([\"doggo\",\"floofer\", \"pupper\", \"puppo\"], axis=1, inplace=True)"
   ]
  },
  {
   "cell_type": "markdown",
   "id": "52ed4e2b",
   "metadata": {},
   "source": [
    "##### Test"
   ]
  },
  {
   "cell_type": "code",
   "execution_count": 54,
   "id": "106b2b56",
   "metadata": {},
   "outputs": [
    {
     "data": {
      "text/html": [
       "<div>\n",
       "<style scoped>\n",
       "    .dataframe tbody tr th:only-of-type {\n",
       "        vertical-align: middle;\n",
       "    }\n",
       "\n",
       "    .dataframe tbody tr th {\n",
       "        vertical-align: top;\n",
       "    }\n",
       "\n",
       "    .dataframe thead th {\n",
       "        text-align: right;\n",
       "    }\n",
       "</style>\n",
       "<table border=\"1\" class=\"dataframe\">\n",
       "  <thead>\n",
       "    <tr style=\"text-align: right;\">\n",
       "      <th></th>\n",
       "      <th>tweet_id</th>\n",
       "      <th>timestamp</th>\n",
       "      <th>text</th>\n",
       "      <th>rating_numerator</th>\n",
       "      <th>rating_denominator</th>\n",
       "      <th>name</th>\n",
       "      <th>dog_stage</th>\n",
       "    </tr>\n",
       "  </thead>\n",
       "  <tbody>\n",
       "    <tr>\n",
       "      <th>0</th>\n",
       "      <td>892420643555336193</td>\n",
       "      <td>2017-08-01 16:23:56</td>\n",
       "      <td>This is Phineas. He's a mystical boy. Only eve...</td>\n",
       "      <td>13.0</td>\n",
       "      <td>10.0</td>\n",
       "      <td>Phineas</td>\n",
       "      <td>NaN</td>\n",
       "    </tr>\n",
       "    <tr>\n",
       "      <th>1</th>\n",
       "      <td>892177421306343426</td>\n",
       "      <td>2017-08-01 00:17:27</td>\n",
       "      <td>This is Tilly. She's just checking pup on you....</td>\n",
       "      <td>13.0</td>\n",
       "      <td>10.0</td>\n",
       "      <td>Tilly</td>\n",
       "      <td>NaN</td>\n",
       "    </tr>\n",
       "    <tr>\n",
       "      <th>2</th>\n",
       "      <td>891815181378084864</td>\n",
       "      <td>2017-07-31 00:18:03</td>\n",
       "      <td>This is Archie. He is a rare Norwegian Pouncin...</td>\n",
       "      <td>12.0</td>\n",
       "      <td>10.0</td>\n",
       "      <td>Archie</td>\n",
       "      <td>NaN</td>\n",
       "    </tr>\n",
       "    <tr>\n",
       "      <th>3</th>\n",
       "      <td>891689557279858688</td>\n",
       "      <td>2017-07-30 15:58:51</td>\n",
       "      <td>This is Darla. She commenced a snooze mid meal...</td>\n",
       "      <td>13.0</td>\n",
       "      <td>10.0</td>\n",
       "      <td>Darla</td>\n",
       "      <td>NaN</td>\n",
       "    </tr>\n",
       "    <tr>\n",
       "      <th>4</th>\n",
       "      <td>891327558926688256</td>\n",
       "      <td>2017-07-29 16:00:24</td>\n",
       "      <td>This is Franklin. He would like you to stop ca...</td>\n",
       "      <td>12.0</td>\n",
       "      <td>10.0</td>\n",
       "      <td>Franklin</td>\n",
       "      <td>NaN</td>\n",
       "    </tr>\n",
       "    <tr>\n",
       "      <th>...</th>\n",
       "      <td>...</td>\n",
       "      <td>...</td>\n",
       "      <td>...</td>\n",
       "      <td>...</td>\n",
       "      <td>...</td>\n",
       "      <td>...</td>\n",
       "      <td>...</td>\n",
       "    </tr>\n",
       "    <tr>\n",
       "      <th>2161</th>\n",
       "      <td>666082916733198337</td>\n",
       "      <td>2015-11-16 02:38:37</td>\n",
       "      <td>Here we have a well-established sunblockerspan...</td>\n",
       "      <td>6.0</td>\n",
       "      <td>10.0</td>\n",
       "      <td>None</td>\n",
       "      <td>NaN</td>\n",
       "    </tr>\n",
       "    <tr>\n",
       "      <th>2162</th>\n",
       "      <td>666073100786774016</td>\n",
       "      <td>2015-11-16 01:59:36</td>\n",
       "      <td>Let's hope this flight isn't Malaysian (lol). ...</td>\n",
       "      <td>10.0</td>\n",
       "      <td>10.0</td>\n",
       "      <td>None</td>\n",
       "      <td>NaN</td>\n",
       "    </tr>\n",
       "    <tr>\n",
       "      <th>2163</th>\n",
       "      <td>666071193221509120</td>\n",
       "      <td>2015-11-16 01:52:02</td>\n",
       "      <td>Here we have a northern speckled Rhododendron....</td>\n",
       "      <td>9.0</td>\n",
       "      <td>10.0</td>\n",
       "      <td>None</td>\n",
       "      <td>NaN</td>\n",
       "    </tr>\n",
       "    <tr>\n",
       "      <th>2170</th>\n",
       "      <td>666049248165822465</td>\n",
       "      <td>2015-11-16 00:24:50</td>\n",
       "      <td>Here we have a 1949 1st generation vulpix. Enj...</td>\n",
       "      <td>5.0</td>\n",
       "      <td>10.0</td>\n",
       "      <td>None</td>\n",
       "      <td>NaN</td>\n",
       "    </tr>\n",
       "    <tr>\n",
       "      <th>2174</th>\n",
       "      <td>666020888022790149</td>\n",
       "      <td>2015-11-15 22:32:08</td>\n",
       "      <td>Here we have a Japanese Irish Setter. Lost eye...</td>\n",
       "      <td>8.0</td>\n",
       "      <td>10.0</td>\n",
       "      <td>None</td>\n",
       "      <td>NaN</td>\n",
       "    </tr>\n",
       "  </tbody>\n",
       "</table>\n",
       "<p>2071 rows × 7 columns</p>\n",
       "</div>"
      ],
      "text/plain": [
       "                tweet_id           timestamp  \\\n",
       "0     892420643555336193 2017-08-01 16:23:56   \n",
       "1     892177421306343426 2017-08-01 00:17:27   \n",
       "2     891815181378084864 2017-07-31 00:18:03   \n",
       "3     891689557279858688 2017-07-30 15:58:51   \n",
       "4     891327558926688256 2017-07-29 16:00:24   \n",
       "...                  ...                 ...   \n",
       "2161  666082916733198337 2015-11-16 02:38:37   \n",
       "2162  666073100786774016 2015-11-16 01:59:36   \n",
       "2163  666071193221509120 2015-11-16 01:52:02   \n",
       "2170  666049248165822465 2015-11-16 00:24:50   \n",
       "2174  666020888022790149 2015-11-15 22:32:08   \n",
       "\n",
       "                                                   text  rating_numerator  \\\n",
       "0     This is Phineas. He's a mystical boy. Only eve...              13.0   \n",
       "1     This is Tilly. She's just checking pup on you....              13.0   \n",
       "2     This is Archie. He is a rare Norwegian Pouncin...              12.0   \n",
       "3     This is Darla. She commenced a snooze mid meal...              13.0   \n",
       "4     This is Franklin. He would like you to stop ca...              12.0   \n",
       "...                                                 ...               ...   \n",
       "2161  Here we have a well-established sunblockerspan...               6.0   \n",
       "2162  Let's hope this flight isn't Malaysian (lol). ...              10.0   \n",
       "2163  Here we have a northern speckled Rhododendron....               9.0   \n",
       "2170  Here we have a 1949 1st generation vulpix. Enj...               5.0   \n",
       "2174  Here we have a Japanese Irish Setter. Lost eye...               8.0   \n",
       "\n",
       "      rating_denominator      name dog_stage  \n",
       "0                   10.0   Phineas       NaN  \n",
       "1                   10.0     Tilly       NaN  \n",
       "2                   10.0    Archie       NaN  \n",
       "3                   10.0     Darla       NaN  \n",
       "4                   10.0  Franklin       NaN  \n",
       "...                  ...       ...       ...  \n",
       "2161                10.0      None       NaN  \n",
       "2162                10.0      None       NaN  \n",
       "2163                10.0      None       NaN  \n",
       "2170                10.0      None       NaN  \n",
       "2174                10.0      None       NaN  \n",
       "\n",
       "[2071 rows x 7 columns]"
      ]
     },
     "execution_count": 54,
     "metadata": {},
     "output_type": "execute_result"
    }
   ],
   "source": [
    "twitter_archive_clean"
   ]
  },
  {
   "cell_type": "markdown",
   "id": "2e2ccd80",
   "metadata": {},
   "source": [
    "2. **Data does not need to be split over three datasets - the other two datasets should be joined to 'twitter_archive'**\n",
    "\n",
    "> The datasets will now be combined to form a master dataset.\n"
   ]
  },
  {
   "cell_type": "markdown",
   "id": "be1029ce",
   "metadata": {},
   "source": [
    "#### Code"
   ]
  },
  {
   "cell_type": "code",
   "execution_count": 55,
   "id": "a9063ec5",
   "metadata": {},
   "outputs": [],
   "source": [
    "# Merge twitter archive and retweet_favourite files \n",
    "\n",
    "twitter_archive_clean = pd.merge(left=twitter_archive_clean,\n",
    "                                 right=retweet_favourite_count_clean, left_on='tweet_id', right_on='tweet_id', how='inner')"
   ]
  },
  {
   "cell_type": "code",
   "execution_count": 56,
   "id": "53ec1487",
   "metadata": {},
   "outputs": [],
   "source": [
    "# Merge the previosly merged file with image_pred\n",
    "\n",
    "twitter_archive_clean = twitter_archive_clean.merge(image_pred_clean, on='tweet_id', how='inner')"
   ]
  },
  {
   "cell_type": "markdown",
   "id": "8ce1eadc",
   "metadata": {},
   "source": [
    "##### Test"
   ]
  },
  {
   "cell_type": "code",
   "execution_count": 57,
   "id": "6d24e7dd",
   "metadata": {},
   "outputs": [
    {
     "data": {
      "text/html": [
       "<div>\n",
       "<style scoped>\n",
       "    .dataframe tbody tr th:only-of-type {\n",
       "        vertical-align: middle;\n",
       "    }\n",
       "\n",
       "    .dataframe tbody tr th {\n",
       "        vertical-align: top;\n",
       "    }\n",
       "\n",
       "    .dataframe thead th {\n",
       "        text-align: right;\n",
       "    }\n",
       "</style>\n",
       "<table border=\"1\" class=\"dataframe\">\n",
       "  <thead>\n",
       "    <tr style=\"text-align: right;\">\n",
       "      <th></th>\n",
       "      <th>tweet_id</th>\n",
       "      <th>timestamp</th>\n",
       "      <th>text</th>\n",
       "      <th>rating_numerator</th>\n",
       "      <th>rating_denominator</th>\n",
       "      <th>name</th>\n",
       "      <th>dog_stage</th>\n",
       "      <th>retweet_count</th>\n",
       "      <th>favorite_count</th>\n",
       "      <th>img_num</th>\n",
       "      <th>p1</th>\n",
       "      <th>p1_conf</th>\n",
       "      <th>p1_dog</th>\n",
       "      <th>p2</th>\n",
       "      <th>p2_conf</th>\n",
       "      <th>p2_dog</th>\n",
       "      <th>p3</th>\n",
       "      <th>p3_conf</th>\n",
       "      <th>p3_dog</th>\n",
       "    </tr>\n",
       "  </thead>\n",
       "  <tbody>\n",
       "    <tr>\n",
       "      <th>0</th>\n",
       "      <td>892420643555336193</td>\n",
       "      <td>2017-08-01 16:23:56</td>\n",
       "      <td>This is Phineas. He's a mystical boy. Only eve...</td>\n",
       "      <td>13.0</td>\n",
       "      <td>10.0</td>\n",
       "      <td>Phineas</td>\n",
       "      <td>NaN</td>\n",
       "      <td>8853</td>\n",
       "      <td>39467</td>\n",
       "      <td>1</td>\n",
       "      <td>orange</td>\n",
       "      <td>0.097049</td>\n",
       "      <td>False</td>\n",
       "      <td>bagel</td>\n",
       "      <td>0.085851</td>\n",
       "      <td>False</td>\n",
       "      <td>banana</td>\n",
       "      <td>0.076110</td>\n",
       "      <td>False</td>\n",
       "    </tr>\n",
       "    <tr>\n",
       "      <th>1</th>\n",
       "      <td>892177421306343426</td>\n",
       "      <td>2017-08-01 00:17:27</td>\n",
       "      <td>This is Tilly. She's just checking pup on you....</td>\n",
       "      <td>13.0</td>\n",
       "      <td>10.0</td>\n",
       "      <td>Tilly</td>\n",
       "      <td>NaN</td>\n",
       "      <td>6514</td>\n",
       "      <td>33819</td>\n",
       "      <td>1</td>\n",
       "      <td>Chihuahua</td>\n",
       "      <td>0.323581</td>\n",
       "      <td>True</td>\n",
       "      <td>Pekinese</td>\n",
       "      <td>0.090647</td>\n",
       "      <td>True</td>\n",
       "      <td>papillon</td>\n",
       "      <td>0.068957</td>\n",
       "      <td>True</td>\n",
       "    </tr>\n",
       "    <tr>\n",
       "      <th>2</th>\n",
       "      <td>891815181378084864</td>\n",
       "      <td>2017-07-31 00:18:03</td>\n",
       "      <td>This is Archie. He is a rare Norwegian Pouncin...</td>\n",
       "      <td>12.0</td>\n",
       "      <td>10.0</td>\n",
       "      <td>Archie</td>\n",
       "      <td>NaN</td>\n",
       "      <td>4328</td>\n",
       "      <td>25461</td>\n",
       "      <td>1</td>\n",
       "      <td>Chihuahua</td>\n",
       "      <td>0.716012</td>\n",
       "      <td>True</td>\n",
       "      <td>malamute</td>\n",
       "      <td>0.078253</td>\n",
       "      <td>True</td>\n",
       "      <td>kelpie</td>\n",
       "      <td>0.031379</td>\n",
       "      <td>True</td>\n",
       "    </tr>\n",
       "    <tr>\n",
       "      <th>3</th>\n",
       "      <td>891689557279858688</td>\n",
       "      <td>2017-07-30 15:58:51</td>\n",
       "      <td>This is Darla. She commenced a snooze mid meal...</td>\n",
       "      <td>13.0</td>\n",
       "      <td>10.0</td>\n",
       "      <td>Darla</td>\n",
       "      <td>NaN</td>\n",
       "      <td>8964</td>\n",
       "      <td>42908</td>\n",
       "      <td>1</td>\n",
       "      <td>paper_towel</td>\n",
       "      <td>0.170278</td>\n",
       "      <td>False</td>\n",
       "      <td>Labrador_retriever</td>\n",
       "      <td>0.168086</td>\n",
       "      <td>True</td>\n",
       "      <td>spatula</td>\n",
       "      <td>0.040836</td>\n",
       "      <td>False</td>\n",
       "    </tr>\n",
       "    <tr>\n",
       "      <th>4</th>\n",
       "      <td>891327558926688256</td>\n",
       "      <td>2017-07-29 16:00:24</td>\n",
       "      <td>This is Franklin. He would like you to stop ca...</td>\n",
       "      <td>12.0</td>\n",
       "      <td>10.0</td>\n",
       "      <td>Franklin</td>\n",
       "      <td>NaN</td>\n",
       "      <td>9774</td>\n",
       "      <td>41048</td>\n",
       "      <td>2</td>\n",
       "      <td>basset</td>\n",
       "      <td>0.555712</td>\n",
       "      <td>True</td>\n",
       "      <td>English_springer</td>\n",
       "      <td>0.225770</td>\n",
       "      <td>True</td>\n",
       "      <td>German_short-haired_pointer</td>\n",
       "      <td>0.175219</td>\n",
       "      <td>True</td>\n",
       "    </tr>\n",
       "    <tr>\n",
       "      <th>...</th>\n",
       "      <td>...</td>\n",
       "      <td>...</td>\n",
       "      <td>...</td>\n",
       "      <td>...</td>\n",
       "      <td>...</td>\n",
       "      <td>...</td>\n",
       "      <td>...</td>\n",
       "      <td>...</td>\n",
       "      <td>...</td>\n",
       "      <td>...</td>\n",
       "      <td>...</td>\n",
       "      <td>...</td>\n",
       "      <td>...</td>\n",
       "      <td>...</td>\n",
       "      <td>...</td>\n",
       "      <td>...</td>\n",
       "      <td>...</td>\n",
       "      <td>...</td>\n",
       "      <td>...</td>\n",
       "    </tr>\n",
       "    <tr>\n",
       "      <th>1891</th>\n",
       "      <td>666082916733198337</td>\n",
       "      <td>2015-11-16 02:38:37</td>\n",
       "      <td>Here we have a well-established sunblockerspan...</td>\n",
       "      <td>6.0</td>\n",
       "      <td>10.0</td>\n",
       "      <td>None</td>\n",
       "      <td>NaN</td>\n",
       "      <td>47</td>\n",
       "      <td>121</td>\n",
       "      <td>1</td>\n",
       "      <td>pug</td>\n",
       "      <td>0.489814</td>\n",
       "      <td>True</td>\n",
       "      <td>bull_mastiff</td>\n",
       "      <td>0.404722</td>\n",
       "      <td>True</td>\n",
       "      <td>French_bulldog</td>\n",
       "      <td>0.048960</td>\n",
       "      <td>True</td>\n",
       "    </tr>\n",
       "    <tr>\n",
       "      <th>1892</th>\n",
       "      <td>666073100786774016</td>\n",
       "      <td>2015-11-16 01:59:36</td>\n",
       "      <td>Let's hope this flight isn't Malaysian (lol). ...</td>\n",
       "      <td>10.0</td>\n",
       "      <td>10.0</td>\n",
       "      <td>None</td>\n",
       "      <td>NaN</td>\n",
       "      <td>174</td>\n",
       "      <td>335</td>\n",
       "      <td>1</td>\n",
       "      <td>Walker_hound</td>\n",
       "      <td>0.260857</td>\n",
       "      <td>True</td>\n",
       "      <td>English_foxhound</td>\n",
       "      <td>0.175382</td>\n",
       "      <td>True</td>\n",
       "      <td>Ibizan_hound</td>\n",
       "      <td>0.097471</td>\n",
       "      <td>True</td>\n",
       "    </tr>\n",
       "    <tr>\n",
       "      <th>1893</th>\n",
       "      <td>666071193221509120</td>\n",
       "      <td>2015-11-16 01:52:02</td>\n",
       "      <td>Here we have a northern speckled Rhododendron....</td>\n",
       "      <td>9.0</td>\n",
       "      <td>10.0</td>\n",
       "      <td>None</td>\n",
       "      <td>NaN</td>\n",
       "      <td>67</td>\n",
       "      <td>154</td>\n",
       "      <td>1</td>\n",
       "      <td>Gordon_setter</td>\n",
       "      <td>0.503672</td>\n",
       "      <td>True</td>\n",
       "      <td>Yorkshire_terrier</td>\n",
       "      <td>0.174201</td>\n",
       "      <td>True</td>\n",
       "      <td>Pekinese</td>\n",
       "      <td>0.109454</td>\n",
       "      <td>True</td>\n",
       "    </tr>\n",
       "    <tr>\n",
       "      <th>1894</th>\n",
       "      <td>666049248165822465</td>\n",
       "      <td>2015-11-16 00:24:50</td>\n",
       "      <td>Here we have a 1949 1st generation vulpix. Enj...</td>\n",
       "      <td>5.0</td>\n",
       "      <td>10.0</td>\n",
       "      <td>None</td>\n",
       "      <td>NaN</td>\n",
       "      <td>41</td>\n",
       "      <td>111</td>\n",
       "      <td>1</td>\n",
       "      <td>miniature_pinscher</td>\n",
       "      <td>0.560311</td>\n",
       "      <td>True</td>\n",
       "      <td>Rottweiler</td>\n",
       "      <td>0.243682</td>\n",
       "      <td>True</td>\n",
       "      <td>Doberman</td>\n",
       "      <td>0.154629</td>\n",
       "      <td>True</td>\n",
       "    </tr>\n",
       "    <tr>\n",
       "      <th>1895</th>\n",
       "      <td>666020888022790149</td>\n",
       "      <td>2015-11-15 22:32:08</td>\n",
       "      <td>Here we have a Japanese Irish Setter. Lost eye...</td>\n",
       "      <td>8.0</td>\n",
       "      <td>10.0</td>\n",
       "      <td>None</td>\n",
       "      <td>NaN</td>\n",
       "      <td>532</td>\n",
       "      <td>2535</td>\n",
       "      <td>1</td>\n",
       "      <td>Welsh_springer_spaniel</td>\n",
       "      <td>0.465074</td>\n",
       "      <td>True</td>\n",
       "      <td>collie</td>\n",
       "      <td>0.156665</td>\n",
       "      <td>True</td>\n",
       "      <td>Shetland_sheepdog</td>\n",
       "      <td>0.061428</td>\n",
       "      <td>True</td>\n",
       "    </tr>\n",
       "  </tbody>\n",
       "</table>\n",
       "<p>1896 rows × 19 columns</p>\n",
       "</div>"
      ],
      "text/plain": [
       "                tweet_id           timestamp  \\\n",
       "0     892420643555336193 2017-08-01 16:23:56   \n",
       "1     892177421306343426 2017-08-01 00:17:27   \n",
       "2     891815181378084864 2017-07-31 00:18:03   \n",
       "3     891689557279858688 2017-07-30 15:58:51   \n",
       "4     891327558926688256 2017-07-29 16:00:24   \n",
       "...                  ...                 ...   \n",
       "1891  666082916733198337 2015-11-16 02:38:37   \n",
       "1892  666073100786774016 2015-11-16 01:59:36   \n",
       "1893  666071193221509120 2015-11-16 01:52:02   \n",
       "1894  666049248165822465 2015-11-16 00:24:50   \n",
       "1895  666020888022790149 2015-11-15 22:32:08   \n",
       "\n",
       "                                                   text  rating_numerator  \\\n",
       "0     This is Phineas. He's a mystical boy. Only eve...              13.0   \n",
       "1     This is Tilly. She's just checking pup on you....              13.0   \n",
       "2     This is Archie. He is a rare Norwegian Pouncin...              12.0   \n",
       "3     This is Darla. She commenced a snooze mid meal...              13.0   \n",
       "4     This is Franklin. He would like you to stop ca...              12.0   \n",
       "...                                                 ...               ...   \n",
       "1891  Here we have a well-established sunblockerspan...               6.0   \n",
       "1892  Let's hope this flight isn't Malaysian (lol). ...              10.0   \n",
       "1893  Here we have a northern speckled Rhododendron....               9.0   \n",
       "1894  Here we have a 1949 1st generation vulpix. Enj...               5.0   \n",
       "1895  Here we have a Japanese Irish Setter. Lost eye...               8.0   \n",
       "\n",
       "      rating_denominator      name dog_stage  retweet_count  favorite_count  \\\n",
       "0                   10.0   Phineas       NaN           8853           39467   \n",
       "1                   10.0     Tilly       NaN           6514           33819   \n",
       "2                   10.0    Archie       NaN           4328           25461   \n",
       "3                   10.0     Darla       NaN           8964           42908   \n",
       "4                   10.0  Franklin       NaN           9774           41048   \n",
       "...                  ...       ...       ...            ...             ...   \n",
       "1891                10.0      None       NaN             47             121   \n",
       "1892                10.0      None       NaN            174             335   \n",
       "1893                10.0      None       NaN             67             154   \n",
       "1894                10.0      None       NaN             41             111   \n",
       "1895                10.0      None       NaN            532            2535   \n",
       "\n",
       "      img_num                      p1   p1_conf  p1_dog                  p2  \\\n",
       "0           1                  orange  0.097049   False               bagel   \n",
       "1           1               Chihuahua  0.323581    True            Pekinese   \n",
       "2           1               Chihuahua  0.716012    True            malamute   \n",
       "3           1             paper_towel  0.170278   False  Labrador_retriever   \n",
       "4           2                  basset  0.555712    True    English_springer   \n",
       "...       ...                     ...       ...     ...                 ...   \n",
       "1891        1                     pug  0.489814    True        bull_mastiff   \n",
       "1892        1            Walker_hound  0.260857    True    English_foxhound   \n",
       "1893        1           Gordon_setter  0.503672    True   Yorkshire_terrier   \n",
       "1894        1      miniature_pinscher  0.560311    True          Rottweiler   \n",
       "1895        1  Welsh_springer_spaniel  0.465074    True              collie   \n",
       "\n",
       "       p2_conf  p2_dog                           p3   p3_conf  p3_dog  \n",
       "0     0.085851   False                       banana  0.076110   False  \n",
       "1     0.090647    True                     papillon  0.068957    True  \n",
       "2     0.078253    True                       kelpie  0.031379    True  \n",
       "3     0.168086    True                      spatula  0.040836   False  \n",
       "4     0.225770    True  German_short-haired_pointer  0.175219    True  \n",
       "...        ...     ...                          ...       ...     ...  \n",
       "1891  0.404722    True               French_bulldog  0.048960    True  \n",
       "1892  0.175382    True                 Ibizan_hound  0.097471    True  \n",
       "1893  0.174201    True                     Pekinese  0.109454    True  \n",
       "1894  0.243682    True                     Doberman  0.154629    True  \n",
       "1895  0.156665    True            Shetland_sheepdog  0.061428    True  \n",
       "\n",
       "[1896 rows x 19 columns]"
      ]
     },
     "execution_count": 57,
     "metadata": {},
     "output_type": "execute_result"
    }
   ],
   "source": [
    "twitter_archive_clean"
   ]
  },
  {
   "cell_type": "markdown",
   "id": "a33dbf3f",
   "metadata": {},
   "source": [
    "## Storing Data\n",
    "\n",
    "> The cleaned and merged dataset will now be saved "
   ]
  },
  {
   "cell_type": "code",
   "execution_count": 58,
   "id": "2a86b3f4",
   "metadata": {},
   "outputs": [],
   "source": [
    "twitter_archive_clean.to_csv('twitter_archive_master.csv', index = False)"
   ]
  },
  {
   "cell_type": "markdown",
   "id": "8bfe6c1a",
   "metadata": {},
   "source": [
    "## Analyzing and Visualizing Data\n"
   ]
  },
  {
   "cell_type": "code",
   "execution_count": 59,
   "id": "fdcb904f",
   "metadata": {},
   "outputs": [],
   "source": [
    "master_archive = pd.read_csv('twitter_archive_master.csv')"
   ]
  },
  {
   "cell_type": "markdown",
   "id": "fafe7be6",
   "metadata": {},
   "source": [
    "> For the analysis sections, I will use to data to answer some questions that I can use to gain more insight into the data.The following are the research questions I will be answering:\n",
    "\n",
    "1. Which dog stage is the most popular based on retweets and favourite count ?\n",
    "2. Whats is the correlation between Retweet count and Favourite count ?\n",
    "3. What are the top 5 most predicted dog stages ?"
   ]
  },
  {
   "cell_type": "markdown",
   "id": "e961fa7b",
   "metadata": {},
   "source": [
    " 1. **Which dog stage is the most popular based on number of tweets ?**"
   ]
  },
  {
   "cell_type": "code",
   "execution_count": 60,
   "id": "dda1d6fd",
   "metadata": {},
   "outputs": [
    {
     "data": {
      "text/plain": [
       "pupper            194\n",
       "doggo              61\n",
       "puppo              22\n",
       "doggo, pupper       8\n",
       "floofer             7\n",
       "doggo, puppo        1\n",
       "doggo, floofer      1\n",
       "Name: dog_stage, dtype: int64"
      ]
     },
     "execution_count": 60,
     "metadata": {},
     "output_type": "execute_result"
    }
   ],
   "source": [
    "master_archive.dog_stage.value_counts()"
   ]
  },
  {
   "cell_type": "code",
   "execution_count": 61,
   "id": "db3918c3",
   "metadata": {},
   "outputs": [
    {
     "data": {
      "image/png": "[encoded data removed]",
      "text/plain": [
       "<Figure size 432x288 with 1 Axes>"
      ]
     },
     "metadata": {
      "needs_background": "light"
     },
     "output_type": "display_data"
    }
   ],
   "source": [
    "# Dog stage distributiom\n",
    "master_archive.dog_stage.value_counts().sort_values().plot(kind = 'bar')\n",
    "plt.xlabel(\"Dog Stages\")\n",
    "plt.ylabel('Count')\n",
    "plt.title(\"Dog Stage Distribution\")\n",
    "plt.show()"
   ]
  },
  {
   "cell_type": "markdown",
   "id": "269d5b8b",
   "metadata": {},
   "source": [
    "- Most of the tweets did not have dog stages \n",
    "- puppers have the most tweets followed by doggos"
   ]
  },
  {
   "cell_type": "markdown",
   "id": "3afd9f9a",
   "metadata": {},
   "source": [
    "2. **Which are stage is the most popular based on retweets and favourite count ?**"
   ]
  },
  {
   "cell_type": "code",
   "execution_count": 62,
   "id": "c431f3d0",
   "metadata": {},
   "outputs": [
    {
     "data": {
      "image/png": "[encoded data removed]",
      "text/plain": [
       "<Figure size 432x288 with 1 Axes>"
      ]
     },
     "metadata": {
      "needs_background": "light"
     },
     "output_type": "display_data"
    }
   ],
   "source": [
    "# Plot dog stage based on number of retweets \n",
    "g = sns.barplot(x = master_archive.dog_stage, y = master_archive.retweet_count,  palette = \"colorblind\")\n",
    "plt.xticks(rotation=90)\n",
    "g.set(xlabel = 'Dog Stage', ylabel='Number of Retweets')\n",
    "plt.title('Dog Stages Vs Number of Retweets')\n",
    "plt.show()"
   ]
  },
  {
   "cell_type": "code",
   "execution_count": 63,
   "id": "691df0f5",
   "metadata": {},
   "outputs": [
    {
     "data": {
      "image/png": "[encoded data removed]",
      "text/plain": [
       "<Figure size 432x288 with 1 Axes>"
      ]
     },
     "metadata": {
      "needs_background": "light"
     },
     "output_type": "display_data"
    }
   ],
   "source": [
    "# Plot dog stage based on number of favourites \n",
    "g = sns.barplot(x = master_archive.dog_stage, y = master_archive.favorite_count,  palette = \"colorblind\")\n",
    "plt.xticks(rotation=90)\n",
    "g.set(xlabel = 'Dog Stage', ylabel='Number of Favourite')\n",
    "plt.title('Dog Stages Vs Number of Favourites')\n",
    "plt.show()"
   ]
  },
  {
   "cell_type": "markdown",
   "id": "c4ae0e80",
   "metadata": {},
   "source": [
    "- Of the tweets with dog stages, ''doggo,puppo' had the most retweets and favourite counts despite having just one tweet with the doggo,puppo stage. "
   ]
  },
  {
   "cell_type": "markdown",
   "id": "7dfa9a81",
   "metadata": {},
   "source": [
    "3. **Whats is the correlation between Retweet count and Favourite count ?**"
   ]
  },
  {
   "cell_type": "code",
   "execution_count": 64,
   "id": "24978a85",
   "metadata": {},
   "outputs": [
    {
     "data": {
      "image/png": "[encoded data removed]",
      "text/plain": [
       "<Figure size 604.8x432 with 1 Axes>"
      ]
     },
     "metadata": {
      "needs_background": "light"
     },
     "output_type": "display_data"
    }
   ],
   "source": [
    "# Plot scatterplot of retweet vs favorite count\n",
    "sns.lmplot(x=\"favorite_count\", \n",
    "           y=\"retweet_count\", \n",
    "           data=master_archive,\n",
    "           height = 6,\n",
    "           aspect=1.4,\n",
    "           scatter_kws={'alpha':0.5})\n",
    "plt.title('Correlation between Favourites and Retweets')\n",
    "plt.xlabel('Favourite Count')\n",
    "plt.ylabel('Retweet Count')\n",
    "sns.set_style('darkgrid');"
   ]
  },
  {
   "cell_type": "code",
   "execution_count": 65,
   "id": "c254910f",
   "metadata": {},
   "outputs": [
    {
     "data": {
      "text/plain": [
       "0.911309597334546"
      ]
     },
     "execution_count": 65,
     "metadata": {},
     "output_type": "execute_result"
    }
   ],
   "source": [
    "np.corrcoef(master_archive.retweet_count, master_archive.favorite_count)[1, 0]"
   ]
  },
  {
   "cell_type": "markdown",
   "id": "e7c1a7f0",
   "metadata": {},
   "source": [
    "> Correlation coefficient = 0.911. There is a very strong correlation between retweets and favourite counts. "
   ]
  },
  {
   "cell_type": "markdown",
   "id": "5beadd7c",
   "metadata": {},
   "source": [
    "4. **What are the top 5 most predicted dog stages ?**"
   ]
  },
  {
   "cell_type": "code",
   "execution_count": 66,
   "id": "e6dabdeb",
   "metadata": {},
   "outputs": [],
   "source": [
    "# Isolate dog breeds in descending order to see those in the top 5 \n",
    "dog_breed = master_archive.p1.value_counts().sort_values(ascending = False)"
   ]
  },
  {
   "cell_type": "code",
   "execution_count": 67,
   "id": "d371a7ef",
   "metadata": {},
   "outputs": [
    {
     "data": {
      "text/plain": [
       "golden_retriever      135\n",
       "Labrador_retriever     92\n",
       "Pembroke               84\n",
       "Chihuahua              77\n",
       "pug                    51\n",
       "                     ... \n",
       "toilet_seat             1\n",
       "water_bottle            1\n",
       "leaf_beetle             1\n",
       "sandbar                 1\n",
       "desktop_computer        1\n",
       "Name: p1, Length: 362, dtype: int64"
      ]
     },
     "execution_count": 67,
     "metadata": {},
     "output_type": "execute_result"
    }
   ],
   "source": [
    "dog_breed"
   ]
  },
  {
   "cell_type": "code",
   "execution_count": 68,
   "id": "31d6963f",
   "metadata": {},
   "outputs": [
    {
     "data": {
      "image/png": "[encoded data removed]",
      "text/plain": [
       "<Figure size 1080x360 with 1 Axes>"
      ]
     },
     "metadata": {},
     "output_type": "display_data"
    }
   ],
   "source": [
    "# Plot a bar chart of the top 5 most common dog breeds. \n",
    "dog_breed[:5].plot(kind = 'bar', figsize=(15,5)) \n",
    "plt.title(\"Top 5 Most Predicted Dog Breeds\", fontsize= 15)\n",
    "plt.xticks(rotation=90, fontsize= 15)\n",
    "plt.xlabel(\"Breed\",fontsize= 15)\n",
    "plt.ylabel(\"Count\",fontsize= 15)\n",
    "sns.set_style('darkgrid')"
   ]
  },
  {
   "cell_type": "markdown",
   "id": "9b80ce6c",
   "metadata": {},
   "source": [
    "- The two most predicted dog types are Golden Retrievers and Labrator Retrievers. These two are usually the some of the most common dog breeds. \n",
    "- Other dog breeds in the top 5 include Pembrokes, Chihuahuas and Pugs. "
   ]
  },
  {
   "cell_type": "markdown",
   "id": "47842060",
   "metadata": {},
   "source": [
    "## Conclusion\n",
    "\n",
    "- The dog stage *'pupper'* is the most popular based on number of tweets sent out.\n",
    "- *'doggo,puppo'* stage had the most retweets and favourite counts despite having just one tweet with that dog stage.\n",
    "- Analysis showed that there is a strong linear correlation between retweet count and favourite count. The regression coefficient is 0.787. This is what is expected because users usually favourite tweets that they retweet. \n",
    "- Golden retriever, Labrador Retriever, Pembroke, Chihuahua and Pugs are the top 5 most common dog breeds predicted in the dataset. \n",
    "\n",
    "\n",
    "## Areas of Further Research\n",
    "- The rating columns for can be analysed for more insight\n",
    "- Only the 1st prediction column was used, all 3 columns may be used to determine the overall probability or popularity of dog breeds and how accurate predictions are in each tweet. "
   ]
  }
 ],
 "metadata": {
  "kernelspec": {
   "display_name": "Python 3 (ipykernel)",
   "language": "python",
   "name": "python3"
  },
  "language_info": {
   "codemirror_mode": {
    "name": "ipython",
    "version": 3
   },
   "file_extension": ".py",
   "mimetype": "text/x-python",
   "name": "python",
   "nbconvert_exporter": "python",
   "pygments_lexer": "ipython3",
   "version": "3.9.12"
  }
 },
 "nbformat": 4,
 "nbformat_minor": 5
}
